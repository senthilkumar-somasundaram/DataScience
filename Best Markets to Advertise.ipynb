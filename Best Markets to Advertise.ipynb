{
 "cells": [
  {
   "cell_type": "markdown",
   "metadata": {},
   "source": [
    "Goal of this project is to identify two best markets to advertise e-learning company products.\n"
   ]
  },
  {
   "cell_type": "markdown",
   "metadata": {},
   "source": [
    "To reach our goal, we could organize surveys for a couple of different markets to find out which would the best choices for advertising. This is very costly, however, and it's a good call to explore cheaper options first."
   ]
  },
  {
   "cell_type": "markdown",
   "metadata": {},
   "source": [
    "https://github.com/freeCodeCamp/2017-new-coder-survey\n",
    "https://www.freecodecamp.org/news/we-asked-20-000-people-who-they-are-and-how-theyre-learning-to-code-fff5d668969\n",
    "\n"
   ]
  },
  {
   "cell_type": "code",
   "execution_count": 158,
   "metadata": {
    "collapsed": false
   },
   "outputs": [],
   "source": [
    "import pandas as pd\n",
    "\n",
    "survey = pd.read_csv('2017-fCC-New-Coders-Survey-Data.csv',\n",
    "                     low_memory=False)"
   ]
  },
  {
   "cell_type": "code",
   "execution_count": 159,
   "metadata": {
    "collapsed": false
   },
   "outputs": [
    {
     "data": {
      "text/plain": [
       "(18175, 136)"
      ]
     },
     "execution_count": 159,
     "metadata": {},
     "output_type": "execute_result"
    }
   ],
   "source": [
    "survey.shape"
   ]
  },
  {
   "cell_type": "code",
   "execution_count": 160,
   "metadata": {
    "collapsed": false
   },
   "outputs": [
    {
     "data": {
      "text/plain": [
       "Age                       float64\n",
       "AttendedBootcamp          float64\n",
       "BootcampFinish            float64\n",
       "BootcampLoanYesNo         float64\n",
       "BootcampName               object\n",
       "BootcampRecommend         float64\n",
       "ChildrenNumber            float64\n",
       "CityPopulation             object\n",
       "CodeEventConferences      float64\n",
       "CodeEventDjangoGirls      float64\n",
       "CodeEventFCC              float64\n",
       "CodeEventGameJam          float64\n",
       "CodeEventGirlDev          float64\n",
       "CodeEventHackathons       float64\n",
       "CodeEventMeetup           float64\n",
       "CodeEventNodeSchool       float64\n",
       "CodeEventNone             float64\n",
       "CodeEventOther             object\n",
       "CodeEventRailsBridge      float64\n",
       "CodeEventRailsGirls       float64\n",
       "CodeEventStartUpWknd      float64\n",
       "CodeEventWkdBootcamps     float64\n",
       "CodeEventWomenCode        float64\n",
       "CodeEventWorkshops        float64\n",
       "CommuteTime                object\n",
       "CountryCitizen             object\n",
       "CountryLive                object\n",
       "EmploymentField            object\n",
       "EmploymentFieldOther       object\n",
       "EmploymentStatus           object\n",
       "                           ...   \n",
       "ResourceMDN               float64\n",
       "ResourceOdinProj          float64\n",
       "ResourceOther              object\n",
       "ResourcePluralSight       float64\n",
       "ResourceSkillcrush        float64\n",
       "ResourceSO                float64\n",
       "ResourceTreehouse         float64\n",
       "ResourceUdacity           float64\n",
       "ResourceUdemy             float64\n",
       "ResourceW3S               float64\n",
       "SchoolDegree               object\n",
       "SchoolMajor                object\n",
       "StudentDebtOwe            float64\n",
       "YouTubeCodeCourse         float64\n",
       "YouTubeCodingTrain        float64\n",
       "YouTubeCodingTut360       float64\n",
       "YouTubeComputerphile      float64\n",
       "YouTubeDerekBanas         float64\n",
       "YouTubeDevTips            float64\n",
       "YouTubeEngineeredTruth    float64\n",
       "YouTubeFCC                float64\n",
       "YouTubeFunFunFunction     float64\n",
       "YouTubeGoogleDev          float64\n",
       "YouTubeLearnCode          float64\n",
       "YouTubeLevelUpTuts        float64\n",
       "YouTubeMIT                float64\n",
       "YouTubeMozillaHacks       float64\n",
       "YouTubeOther               object\n",
       "YouTubeSimplilearn        float64\n",
       "YouTubeTheNewBoston       float64\n",
       "Length: 136, dtype: object"
      ]
     },
     "execution_count": 160,
     "metadata": {},
     "output_type": "execute_result"
    }
   ],
   "source": [
    "survey.dtypes"
   ]
  },
  {
   "cell_type": "code",
   "execution_count": 161,
   "metadata": {
    "collapsed": false
   },
   "outputs": [
    {
     "data": {
      "text/html": [
       "<div>\n",
       "<style scoped>\n",
       "    .dataframe tbody tr th:only-of-type {\n",
       "        vertical-align: middle;\n",
       "    }\n",
       "\n",
       "    .dataframe tbody tr th {\n",
       "        vertical-align: top;\n",
       "    }\n",
       "\n",
       "    .dataframe thead th {\n",
       "        text-align: right;\n",
       "    }\n",
       "</style>\n",
       "<table border=\"1\" class=\"dataframe\">\n",
       "  <thead>\n",
       "    <tr style=\"text-align: right;\">\n",
       "      <th></th>\n",
       "      <th>Age</th>\n",
       "      <th>AttendedBootcamp</th>\n",
       "      <th>BootcampFinish</th>\n",
       "      <th>BootcampLoanYesNo</th>\n",
       "      <th>BootcampName</th>\n",
       "      <th>BootcampRecommend</th>\n",
       "      <th>ChildrenNumber</th>\n",
       "      <th>CityPopulation</th>\n",
       "      <th>CodeEventConferences</th>\n",
       "      <th>CodeEventDjangoGirls</th>\n",
       "      <th>...</th>\n",
       "      <th>YouTubeFCC</th>\n",
       "      <th>YouTubeFunFunFunction</th>\n",
       "      <th>YouTubeGoogleDev</th>\n",
       "      <th>YouTubeLearnCode</th>\n",
       "      <th>YouTubeLevelUpTuts</th>\n",
       "      <th>YouTubeMIT</th>\n",
       "      <th>YouTubeMozillaHacks</th>\n",
       "      <th>YouTubeOther</th>\n",
       "      <th>YouTubeSimplilearn</th>\n",
       "      <th>YouTubeTheNewBoston</th>\n",
       "    </tr>\n",
       "  </thead>\n",
       "  <tbody>\n",
       "    <tr>\n",
       "      <th>0</th>\n",
       "      <td>27.0</td>\n",
       "      <td>0.0</td>\n",
       "      <td>NaN</td>\n",
       "      <td>NaN</td>\n",
       "      <td>NaN</td>\n",
       "      <td>NaN</td>\n",
       "      <td>NaN</td>\n",
       "      <td>more than 1 million</td>\n",
       "      <td>NaN</td>\n",
       "      <td>NaN</td>\n",
       "      <td>...</td>\n",
       "      <td>NaN</td>\n",
       "      <td>NaN</td>\n",
       "      <td>NaN</td>\n",
       "      <td>NaN</td>\n",
       "      <td>NaN</td>\n",
       "      <td>NaN</td>\n",
       "      <td>NaN</td>\n",
       "      <td>NaN</td>\n",
       "      <td>NaN</td>\n",
       "      <td>NaN</td>\n",
       "    </tr>\n",
       "    <tr>\n",
       "      <th>1</th>\n",
       "      <td>34.0</td>\n",
       "      <td>0.0</td>\n",
       "      <td>NaN</td>\n",
       "      <td>NaN</td>\n",
       "      <td>NaN</td>\n",
       "      <td>NaN</td>\n",
       "      <td>NaN</td>\n",
       "      <td>less than 100,000</td>\n",
       "      <td>NaN</td>\n",
       "      <td>NaN</td>\n",
       "      <td>...</td>\n",
       "      <td>1.0</td>\n",
       "      <td>NaN</td>\n",
       "      <td>NaN</td>\n",
       "      <td>NaN</td>\n",
       "      <td>NaN</td>\n",
       "      <td>NaN</td>\n",
       "      <td>NaN</td>\n",
       "      <td>NaN</td>\n",
       "      <td>NaN</td>\n",
       "      <td>NaN</td>\n",
       "    </tr>\n",
       "    <tr>\n",
       "      <th>2</th>\n",
       "      <td>21.0</td>\n",
       "      <td>0.0</td>\n",
       "      <td>NaN</td>\n",
       "      <td>NaN</td>\n",
       "      <td>NaN</td>\n",
       "      <td>NaN</td>\n",
       "      <td>NaN</td>\n",
       "      <td>more than 1 million</td>\n",
       "      <td>NaN</td>\n",
       "      <td>NaN</td>\n",
       "      <td>...</td>\n",
       "      <td>NaN</td>\n",
       "      <td>NaN</td>\n",
       "      <td>NaN</td>\n",
       "      <td>1.0</td>\n",
       "      <td>1.0</td>\n",
       "      <td>NaN</td>\n",
       "      <td>NaN</td>\n",
       "      <td>NaN</td>\n",
       "      <td>NaN</td>\n",
       "      <td>NaN</td>\n",
       "    </tr>\n",
       "    <tr>\n",
       "      <th>3</th>\n",
       "      <td>26.0</td>\n",
       "      <td>0.0</td>\n",
       "      <td>NaN</td>\n",
       "      <td>NaN</td>\n",
       "      <td>NaN</td>\n",
       "      <td>NaN</td>\n",
       "      <td>NaN</td>\n",
       "      <td>between 100,000 and 1 million</td>\n",
       "      <td>NaN</td>\n",
       "      <td>NaN</td>\n",
       "      <td>...</td>\n",
       "      <td>1.0</td>\n",
       "      <td>1.0</td>\n",
       "      <td>NaN</td>\n",
       "      <td>NaN</td>\n",
       "      <td>1.0</td>\n",
       "      <td>NaN</td>\n",
       "      <td>NaN</td>\n",
       "      <td>NaN</td>\n",
       "      <td>NaN</td>\n",
       "      <td>NaN</td>\n",
       "    </tr>\n",
       "    <tr>\n",
       "      <th>4</th>\n",
       "      <td>20.0</td>\n",
       "      <td>0.0</td>\n",
       "      <td>NaN</td>\n",
       "      <td>NaN</td>\n",
       "      <td>NaN</td>\n",
       "      <td>NaN</td>\n",
       "      <td>NaN</td>\n",
       "      <td>between 100,000 and 1 million</td>\n",
       "      <td>NaN</td>\n",
       "      <td>NaN</td>\n",
       "      <td>...</td>\n",
       "      <td>NaN</td>\n",
       "      <td>NaN</td>\n",
       "      <td>NaN</td>\n",
       "      <td>NaN</td>\n",
       "      <td>NaN</td>\n",
       "      <td>NaN</td>\n",
       "      <td>NaN</td>\n",
       "      <td>NaN</td>\n",
       "      <td>NaN</td>\n",
       "      <td>NaN</td>\n",
       "    </tr>\n",
       "  </tbody>\n",
       "</table>\n",
       "<p>5 rows × 136 columns</p>\n",
       "</div>"
      ],
      "text/plain": [
       "    Age  AttendedBootcamp  BootcampFinish  BootcampLoanYesNo BootcampName  \\\n",
       "0  27.0               0.0             NaN                NaN          NaN   \n",
       "1  34.0               0.0             NaN                NaN          NaN   \n",
       "2  21.0               0.0             NaN                NaN          NaN   \n",
       "3  26.0               0.0             NaN                NaN          NaN   \n",
       "4  20.0               0.0             NaN                NaN          NaN   \n",
       "\n",
       "   BootcampRecommend  ChildrenNumber                 CityPopulation  \\\n",
       "0                NaN             NaN            more than 1 million   \n",
       "1                NaN             NaN              less than 100,000   \n",
       "2                NaN             NaN            more than 1 million   \n",
       "3                NaN             NaN  between 100,000 and 1 million   \n",
       "4                NaN             NaN  between 100,000 and 1 million   \n",
       "\n",
       "   CodeEventConferences  CodeEventDjangoGirls         ...           \\\n",
       "0                   NaN                   NaN         ...            \n",
       "1                   NaN                   NaN         ...            \n",
       "2                   NaN                   NaN         ...            \n",
       "3                   NaN                   NaN         ...            \n",
       "4                   NaN                   NaN         ...            \n",
       "\n",
       "   YouTubeFCC  YouTubeFunFunFunction  YouTubeGoogleDev  YouTubeLearnCode  \\\n",
       "0         NaN                    NaN               NaN               NaN   \n",
       "1         1.0                    NaN               NaN               NaN   \n",
       "2         NaN                    NaN               NaN               1.0   \n",
       "3         1.0                    1.0               NaN               NaN   \n",
       "4         NaN                    NaN               NaN               NaN   \n",
       "\n",
       "   YouTubeLevelUpTuts  YouTubeMIT  YouTubeMozillaHacks YouTubeOther  \\\n",
       "0                 NaN         NaN                  NaN          NaN   \n",
       "1                 NaN         NaN                  NaN          NaN   \n",
       "2                 1.0         NaN                  NaN          NaN   \n",
       "3                 1.0         NaN                  NaN          NaN   \n",
       "4                 NaN         NaN                  NaN          NaN   \n",
       "\n",
       "   YouTubeSimplilearn  YouTubeTheNewBoston  \n",
       "0                 NaN                  NaN  \n",
       "1                 NaN                  NaN  \n",
       "2                 NaN                  NaN  \n",
       "3                 NaN                  NaN  \n",
       "4                 NaN                  NaN  \n",
       "\n",
       "[5 rows x 136 columns]"
      ]
     },
     "execution_count": 161,
     "metadata": {},
     "output_type": "execute_result"
    }
   ],
   "source": [
    "survey.head(5)"
   ]
  },
  {
   "cell_type": "markdown",
   "metadata": {},
   "source": [
    "Based on the survey already done, we are using Survey data for our purpose and also this is cost effective. One good candidate is the data from 2007 new coder survey.\n",
    "\n",
    "The Data contains e-learning platform that offers courses on web development and the data is publically available on https://github.com/freeCodeCamp/2017-new-coder-survey\n",
    "\n",
    "https://github.com/dataquestio/solutions/blob/master/Mission310Solutions.ipynb\n"
   ]
  },
  {
   "cell_type": "code",
   "execution_count": 162,
   "metadata": {
    "collapsed": false
   },
   "outputs": [
    {
     "data": {
      "text/plain": [
       "Full-Stack Web Developer                                                                                                                                                                           11.770595\n",
       "  Front-End Web Developer                                                                                                                                                                           6.435927\n",
       "  Data Scientist                                                                                                                                                                                    2.173913\n",
       "Back-End Web Developer                                                                                                                                                                              2.030892\n",
       "  Mobile Developer                                                                                                                                                                                  1.673341\n",
       "Game Developer                                                                                                                                                                                      1.630435\n",
       "Information Security                                                                                                                                                                                1.315789\n",
       "Full-Stack Web Developer,   Front-End Web Developer                                                                                                                                                 0.915332\n",
       "  Front-End Web Developer, Full-Stack Web Developer                                                                                                                                                 0.800915\n",
       "  Product Manager                                                                                                                                                                                   0.786613\n",
       "Data Engineer                                                                                                                                                                                       0.758009\n",
       "  User Experience Designer                                                                                                                                                                          0.743707\n",
       "  User Experience Designer,   Front-End Web Developer                                                                                                                                               0.614989\n",
       "  Front-End Web Developer, Back-End Web Developer, Full-Stack Web Developer                                                                                                                         0.557780\n",
       "  DevOps / SysAdmin                                                                                                                                                                                 0.514874\n",
       "Back-End Web Developer, Full-Stack Web Developer,   Front-End Web Developer                                                                                                                         0.514874\n",
       "Back-End Web Developer,   Front-End Web Developer, Full-Stack Web Developer                                                                                                                         0.514874\n",
       "Full-Stack Web Developer,   Front-End Web Developer, Back-End Web Developer                                                                                                                         0.443364\n",
       "  Front-End Web Developer, Full-Stack Web Developer, Back-End Web Developer                                                                                                                         0.429062\n",
       "Full-Stack Web Developer,   Mobile Developer                                                                                                                                                        0.414760\n",
       "  Front-End Web Developer,   User Experience Designer                                                                                                                                               0.414760\n",
       "Back-End Web Developer, Full-Stack Web Developer                                                                                                                                                    0.386156\n",
       "Full-Stack Web Developer, Back-End Web Developer                                                                                                                                                    0.371854\n",
       "Back-End Web Developer,   Front-End Web Developer                                                                                                                                                   0.286041\n",
       "Full-Stack Web Developer, Back-End Web Developer,   Front-End Web Developer                                                                                                                         0.271739\n",
       "Data Engineer,   Data Scientist                                                                                                                                                                     0.271739\n",
       "  Front-End Web Developer,   Mobile Developer                                                                                                                                                       0.257437\n",
       "Full-Stack Web Developer,   Data Scientist                                                                                                                                                          0.243135\n",
       "  Data Scientist, Data Engineer                                                                                                                                                                     0.228833\n",
       "  Mobile Developer, Game Developer                                                                                                                                                                  0.228833\n",
       "                                                                                                                                                                                                     ...    \n",
       "  Quality Assurance Engineer,   Front-End Web Developer, Back-End Web Developer,   Mobile Developer, Full-Stack Web Developer                                                                       0.014302\n",
       "  Data Scientist, Back-End Web Developer, Full-Stack Web Developer,   Mobile Developer,   Front-End Web Developer, Data Engineer                                                                    0.014302\n",
       "  Data Scientist, Full-Stack Web Developer, Back-End Web Developer, Data Engineer,   Product Manager,   Front-End Web Developer                                                                     0.014302\n",
       "  Quality Assurance Engineer,   Mobile Developer,   Front-End Web Developer, Back-End Web Developer, Information Security, Full-Stack Web Developer                                                 0.014302\n",
       "  Product Manager,   Data Scientist,   Mobile Developer,   User Experience Designer                                                                                                                 0.014302\n",
       "Back-End Web Developer,   User Experience Designer, Full-Stack Web Developer                                                                                                                        0.014302\n",
       "  Mobile Developer,   Product Manager, Game Developer,   Front-End Web Developer, Full-Stack Web Developer, Back-End Web Developer                                                                  0.014302\n",
       "Full-Stack Web Developer,   DevOps / SysAdmin,   Front-End Web Developer, Back-End Web Developer, Data Engineer                                                                                     0.014302\n",
       "Information Security, Game Developer,   Front-End Web Developer, Back-End Web Developer,   Mobile Developer, Full-Stack Web Developer                                                               0.014302\n",
       "  Front-End Web Developer, Game Developer,   Quality Assurance Engineer                                                                                                                             0.014302\n",
       "  Data Scientist,   Front-End Web Developer, Full-Stack Web Developer, Back-End Web Developer,   Mobile Developer                                                                                   0.014302\n",
       "  Mobile Developer, Game Developer, Full-Stack Web Developer, Back-End Web Developer,   Front-End Web Developer                                                                                     0.014302\n",
       "  User Experience Designer,   Mobile Developer, Back-End Web Developer,   Product Manager,   Front-End Web Developer, Full-Stack Web Developer                                                      0.014302\n",
       "Back-End Web Developer, Full-Stack Web Developer,   Product Manager,   Front-End Web Developer,   Mobile Developer                                                                                  0.014302\n",
       "Full-Stack Web Developer, Back-End Web Developer, Information Security, Game Developer                                                                                                              0.014302\n",
       "  DevOps / SysAdmin,   User Experience Designer, Game Developer, Information Security, Information Technology                                                                                       0.014302\n",
       "  Data Scientist, Game Developer,   Quality Assurance Engineer                                                                                                                                      0.014302\n",
       "Data Engineer, Back-End Web Developer,   DevOps / SysAdmin,   Front-End Web Developer, Full-Stack Web Developer                                                                                     0.014302\n",
       "  Mobile Developer, Back-End Web Developer,   Product Manager,   User Experience Designer,   Data Scientist, Data Engineer, Game Developer, Full-Stack Web Developer,   Front-End Web Developer     0.014302\n",
       "Full-Stack Web Developer,   Mobile Developer, Back-End Web Developer,   Quality Assurance Engineer, Game Developer                                                                                  0.014302\n",
       "Game Developer,   Front-End Web Developer,   Mobile Developer, Full-Stack Web Developer,   DevOps / SysAdmin, Back-End Web Developer                                                                0.014302\n",
       "  Data Scientist, Data Engineer, Full-Stack Web Developer, Game Developer,   Mobile Developer                                                                                                       0.014302\n",
       "Game Developer, Full-Stack Web Developer,   Mobile Developer,   Data Scientist, Back-End Web Developer                                                                                              0.014302\n",
       "Back-End Web Developer,   Quality Assurance Engineer, Game Developer,   Front-End Web Developer                                                                                                     0.014302\n",
       "Full-Stack Web Developer,   Front-End Web Developer,   User Experience Designer,   Mobile Developer, Back-End Web Developer                                                                         0.014302\n",
       "  User Experience Designer, Game Developer,   Mobile Developer, Full-Stack Web Developer                                                                                                            0.014302\n",
       "  Data Scientist, Back-End Web Developer, Information Security, Data Engineer,   Mobile Developer                                                                                                   0.014302\n",
       "Data Engineer, Back-End Web Developer, Full-Stack Web Developer,   Front-End Web Developer,   User Experience Designer                                                                              0.014302\n",
       "Full-Stack Web Developer, Data Engineer,   Mobile Developer,   Data Scientist                                                                                                                       0.014302\n",
       "  Front-End Web Developer, Back-End Web Developer, Game Developer, Full-Stack Web Developer,   Data Scientist                                                                                       0.014302\n",
       "Name: JobRoleInterest, Length: 3213, dtype: float64"
      ]
     },
     "execution_count": 162,
     "metadata": {},
     "output_type": "execute_result"
    }
   ],
   "source": [
    "survey['JobRoleInterest'].sort_index().value_counts(normalize=True)*100"
   ]
  },
  {
   "cell_type": "markdown",
   "metadata": {},
   "source": [
    "People are interested more than one subject."
   ]
  },
  {
   "cell_type": "code",
   "execution_count": 163,
   "metadata": {
    "collapsed": false
   },
   "outputs": [],
   "source": [
    "roles = survey['JobRoleInterest'].dropna()"
   ]
  },
  {
   "cell_type": "code",
   "execution_count": 164,
   "metadata": {
    "collapsed": false
   },
   "outputs": [
    {
     "data": {
      "text/plain": [
       "1                                 Full-Stack Web Developer\n",
       "2          Front-End Web Developer, Back-End Web Develo...\n",
       "3          Front-End Web Developer, Full-Stack Web Deve...\n",
       "4        Full-Stack Web Developer, Information Security...\n",
       "6                                 Full-Stack Web Developer\n",
       "9        Full-Stack Web Developer,   Quality Assurance ...\n",
       "11         DevOps / SysAdmin,   Data Scientist, Informa...\n",
       "13       Back-End Web Developer, Full-Stack Web Develop...\n",
       "14                                Full-Stack Web Developer\n",
       "15                                Full-Stack Web Developer\n",
       "16                                Full-Stack Web Developer\n",
       "18       Full-Stack Web Developer,   Front-End Web Deve...\n",
       "19         Front-End Web Developer,   Mobile Developer,...\n",
       "21                                    Information Security\n",
       "22                                Full-Stack Web Developer\n",
       "23                                  Back-End Web Developer\n",
       "28                                Full-Stack Web Developer\n",
       "29         Front-End Web Developer,   Data Scientist, F...\n",
       "30        Back-End Web Developer, Full-Stack Web Developer\n",
       "31                                 Front-End Web Developer\n",
       "32         Data Scientist, Information Security, Data E...\n",
       "33       Full-Stack Web Developer,   Quality Assurance ...\n",
       "34        Back-End Web Developer, Full-Stack Web Developer\n",
       "35       Back-End Web Developer, Full-Stack Web Develop...\n",
       "37                     Mobile Developer,   Product Manager\n",
       "40         Front-End Web Developer, Back-End Web Develo...\n",
       "41                                 Front-End Web Developer\n",
       "42                                Full-Stack Web Developer\n",
       "43       Back-End Web Developer,   Front-End Web Develo...\n",
       "52         Data Scientist, Game Developer, Full-Stack W...\n",
       "                               ...                        \n",
       "18080          Mobile Developer,   Front-End Web Developer\n",
       "18081    Full-Stack Web Developer, Back-End Web Develop...\n",
       "18088                             Full-Stack Web Developer\n",
       "18089                           Quality Assurance Engineer\n",
       "18090    Game Developer,   Data Scientist, Full-Stack W...\n",
       "18093          Front-End Web Developer,   Mobile Developer\n",
       "18097    Game Developer,   Mobile Developer, Full-Stack...\n",
       "18098      Front-End Web Developer, Full-Stack Web Deve...\n",
       "18099                             Full-Stack Web Developer\n",
       "18107                             Full-Stack Web Developer\n",
       "18111                     Mobile Developer, Game Developer\n",
       "18112      Mobile Developer, Game Developer, Full-Stack...\n",
       "18113                     Mobile Developer, Game Developer\n",
       "18118      DevOps / SysAdmin, Full-Stack Web Developer,...\n",
       "18125      Front-End Web Developer, Full-Stack Web Deve...\n",
       "18129                                     Mobile Developer\n",
       "18130      Front-End Web Developer,   User Experience D...\n",
       "18131    Game Developer,   Front-End Web Developer, Bac...\n",
       "18151                              Front-End Web Developer\n",
       "18153       Information Security, Full-Stack Web Developer\n",
       "18154                             Full-Stack Web Developer\n",
       "18155    Full-Stack Web Developer,   Front-End Web Deve...\n",
       "18156                             Full-Stack Web Developer\n",
       "18157    Back-End Web Developer, Data Engineer,   Mobil...\n",
       "18160                             User Experience Designer\n",
       "18161                             Full-Stack Web Developer\n",
       "18162      Data Scientist, Game Developer,   Quality As...\n",
       "18163    Back-End Web Developer, Data Engineer,   Data ...\n",
       "18171      DevOps / SysAdmin,   Mobile Developer,   Pro...\n",
       "18174    Back-End Web Developer, Data Engineer,   Data ...\n",
       "Name: JobRoleInterest, Length: 6992, dtype: object"
      ]
     },
     "execution_count": 164,
     "metadata": {},
     "output_type": "execute_result"
    }
   ],
   "source": [
    "roles"
   ]
  },
  {
   "cell_type": "code",
   "execution_count": 165,
   "metadata": {
    "collapsed": true
   },
   "outputs": [],
   "source": [
    "unique_roles = roles.str.split(',')"
   ]
  },
  {
   "cell_type": "markdown",
   "metadata": {
    "collapsed": false
   },
   "source": [
    "The information in the table above is quite granular, but from a quick scan it looks like:\n",
    "\n",
    "A lot of people are interested in web development (full-stack web development, front-end web development and back-end web development).\n",
    "A few people are interested in mobile development.\n",
    "A few people are interested in domains other than web and mobile development.\n",
    "It's also interesting to note that many respondents are interested in more than one subject. It'd be useful to get a better picture of how many people are interested in a single subject and how many have mixed interests. Consequently, in the next code block, we'll:\n",
    "\n",
    "Split each string in the JobRoleInterest column to find the number of options for each participant.\n",
    "We'll first drop the null values because we can't split Nan values.\n",
    "Generate a frequency table for the variable describing the number of options."
   ]
  },
  {
   "cell_type": "code",
   "execution_count": 166,
   "metadata": {
    "collapsed": false
   },
   "outputs": [],
   "source": [
    "interest_roles = unique_roles.apply(lambda x: len(x))"
   ]
  },
  {
   "cell_type": "code",
   "execution_count": 167,
   "metadata": {
    "collapsed": false
   },
   "outputs": [
    {
     "data": {
      "text/plain": [
       "1     31.650458\n",
       "3     15.889588\n",
       "4     15.217391\n",
       "5     12.042334\n",
       "2     10.883867\n",
       "6      6.721968\n",
       "7      3.861556\n",
       "8      1.759153\n",
       "9      0.986842\n",
       "10     0.471968\n",
       "12     0.300343\n",
       "11     0.185927\n",
       "13     0.028604\n",
       "Name: JobRoleInterest, dtype: float64"
      ]
     },
     "execution_count": 167,
     "metadata": {},
     "output_type": "execute_result"
    }
   ],
   "source": [
    "interest_roles.value_counts(normalize=True) * 100"
   ]
  },
  {
   "cell_type": "markdown",
   "metadata": {
    "collapsed": true
   },
   "source": [
    "It turns out that only 31.7% of the participants have a clear idea about what programming niche they'd like to work in, while the vast majority of students have mixed interests. But given that we offer courses on various subjects, the fact that new coders have mixed interest might be actually good for us.\n",
    "\n",
    "The focus of our courses is on web and mobile development, so let's find out how many respondents chose at least one of these two options."
   ]
  },
  {
   "cell_type": "code",
   "execution_count": 168,
   "metadata": {
    "collapsed": false
   },
   "outputs": [
    {
     "data": {
      "text/plain": [
       "1    1\n",
       "2    5\n",
       "3    3\n",
       "4    5\n",
       "6    1\n",
       "Name: JobRoleInterest, dtype: int64"
      ]
     },
     "execution_count": 168,
     "metadata": {},
     "output_type": "execute_result"
    }
   ],
   "source": [
    "interest_roles.head(5)"
   ]
  },
  {
   "cell_type": "code",
   "execution_count": 169,
   "metadata": {
    "collapsed": false
   },
   "outputs": [
    {
     "data": {
      "text/plain": [
       "1                           [Full-Stack Web Developer]\n",
       "2    [  Front-End Web Developer,  Back-End Web Deve...\n",
       "3    [  Front-End Web Developer,  Full-Stack Web De...\n",
       "4    [Full-Stack Web Developer,  Information Securi...\n",
       "6                           [Full-Stack Web Developer]\n",
       "Name: JobRoleInterest, dtype: object"
      ]
     },
     "execution_count": 169,
     "metadata": {},
     "output_type": "execute_result"
    }
   ],
   "source": [
    "unique_roles.head(5)"
   ]
  },
  {
   "cell_type": "code",
   "execution_count": 170,
   "metadata": {
    "collapsed": true
   },
   "outputs": [],
   "source": [
    "import matplotlib.pyplot as plt\n",
    "from numpy import arange\n",
    "%matplotlib inline"
   ]
  },
  {
   "cell_type": "code",
   "execution_count": 171,
   "metadata": {
    "collapsed": false
   },
   "outputs": [],
   "source": [
    "web_or_mobile = roles.str.contains('Web Developer|Mobile Developer')"
   ]
  },
  {
   "cell_type": "code",
   "execution_count": 172,
   "metadata": {
    "collapsed": false
   },
   "outputs": [
    {
     "data": {
      "text/plain": [
       "1    True\n",
       "2    True\n",
       "3    True\n",
       "4    True\n",
       "6    True\n",
       "Name: JobRoleInterest, dtype: bool"
      ]
     },
     "execution_count": 172,
     "metadata": {},
     "output_type": "execute_result"
    }
   ],
   "source": [
    "web_or_mobile.head(5)"
   ]
  },
  {
   "cell_type": "code",
   "execution_count": 173,
   "metadata": {
    "collapsed": false
   },
   "outputs": [],
   "source": [
    "freq_table = web_or_mobile.value_counts(normalize=True) * 100"
   ]
  },
  {
   "cell_type": "code",
   "execution_count": 174,
   "metadata": {
    "collapsed": false
   },
   "outputs": [
    {
     "data": {
      "text/plain": [
       "True     86.241419\n",
       "False    13.758581\n",
       "Name: JobRoleInterest, dtype: float64"
      ]
     },
     "execution_count": 174,
     "metadata": {},
     "output_type": "execute_result"
    }
   ],
   "source": [
    "freq_table"
   ]
  },
  {
   "cell_type": "code",
   "execution_count": 175,
   "metadata": {
    "collapsed": false
   },
   "outputs": [
    {
     "data": {
      "image/png": "[encoded data removed]",
      "text/plain": [
       "<matplotlib.figure.Figure at 0x7f21fce93fd0>"
      ]
     },
     "metadata": {},
     "output_type": "display_data"
    }
   ],
   "source": [
    "plt.style.use('fivethirtyeight')\n",
    "freq_table.plot.bar()\n",
    "plt.title('Most People Interest in \\nWeb or Mobile Development ',y=1.08) \n",
    "# y pads the title upwards\n",
    "\n",
    "plt.ylabel('Percentage',fontsize=12)\n",
    "plt.ylim([0,100])\n",
    "plt.xticks([0,1],['Web or mobile\\ndevelopment', 'Other subject'],\n",
    "           rotation = 0) # the initial xtick labels were True and False\n",
    "plt.show()"
   ]
  },
  {
   "cell_type": "markdown",
   "metadata": {},
   "source": [
    "It turns out that most people in this survey (roughly 86%) are interested in either web or mobile development. These figures offer us a strong reason to consider this sample representative for our population of interest. We want to advertise our courses to people interested in all sorts of programming niches but mostly web and mobile development.\n",
    "\n"
   ]
  },
  {
   "cell_type": "markdown",
   "metadata": {},
   "source": [
    "Now we need to figure out what are the best markets to invest money in for advertising our courses. We'd like to know:\n",
    "\n",
    "- Where are these new coders located.\n",
    "- What are the locations with the greatest number of new coders.\n",
    "- How much money new coders are willing to spend on learning."
   ]
  },
  {
   "cell_type": "markdown",
   "metadata": {},
   "source": [
    "# New Coders - Locations and Densities\n",
    "\n",
    "> Now that we found out that the sample has the right categories of people for our purpose, we can begin analyzing it. We can start with finding out where these new coders are located, and what are the densities (how many coders there are) for each location.\n",
    "\n",
    "> The data set provides information about the location of each participant at a country level. The CountryCitizen variable describes the country of origin for each participant, and the CountryLive variable describes what country each participants lives in (which may be different than the origin country).\n",
    "\n",
    ">> Because the data set provides information at a country level, we can think of each country as an individual market. This means we can frame our goal as finding the two best countries to advertise in.\n",
    "\n",
    "One indicator of a good market is the number of potential customers — the more potential customers in a market, the better. If our ads manage to convince 10% of the 5000 potential customers in market A to buy our product, then this is better than convincing 100% of the 30 potential customers in market B.\n",
    "\n"
   ]
  },
  {
   "cell_type": "code",
   "execution_count": 176,
   "metadata": {
    "collapsed": false
   },
   "outputs": [],
   "source": [
    "countryLive = survey[survey['JobRoleInterest'].notnull()].copy()\n",
    "# Drop all the rows where participants didn't answer the roles interested in"
   ]
  },
  {
   "cell_type": "code",
   "execution_count": 177,
   "metadata": {
    "collapsed": false
   },
   "outputs": [
    {
     "data": {
      "text/plain": [
       "United States of America         45.700497\n",
       "India                             7.721556\n",
       "United Kingdom                    4.606610\n",
       "Canada                            3.802281\n",
       "Poland                            1.915765\n",
       "Brazil                            1.886517\n",
       "Germany                           1.828020\n",
       "Australia                         1.637906\n",
       "Russia                            1.491664\n",
       "Ukraine                           1.301550\n",
       "Nigeria                           1.228429\n",
       "Spain                             1.126060\n",
       "France                            1.096812\n",
       "Romania                           1.038315\n",
       "Netherlands (Holland, Europe)     0.950570\n",
       "Italy                             0.906698\n",
       "Serbia                            0.760456\n",
       "Philippines                       0.760456\n",
       "Greece                            0.672711\n",
       "Ireland                           0.628839\n",
       "South Africa                      0.570342\n",
       "Mexico                            0.541094\n",
       "Turkey                            0.526470\n",
       "Hungary                           0.497221\n",
       "Singapore                         0.497221\n",
       "New Zealand                       0.482597\n",
       "Argentina                         0.467973\n",
       "Croatia                           0.467973\n",
       "Indonesia                         0.453349\n",
       "Pakistan                          0.453349\n",
       "                                   ...    \n",
       "Vanuatu                           0.014624\n",
       "Liberia                           0.014624\n",
       "Myanmar                           0.014624\n",
       "Rwanda                            0.014624\n",
       "Panama                            0.014624\n",
       "Botswana                          0.014624\n",
       "Channel Islands                   0.014624\n",
       "Trinidad & Tobago                 0.014624\n",
       "Gambia                            0.014624\n",
       "Samoa                             0.014624\n",
       "Nicaragua                         0.014624\n",
       "Cayman Islands                    0.014624\n",
       "Gibraltar                         0.014624\n",
       "Qatar                             0.014624\n",
       "Nambia                            0.014624\n",
       "Yemen                             0.014624\n",
       "Guadeloupe                        0.014624\n",
       "Papua New Guinea                  0.014624\n",
       "Bolivia                           0.014624\n",
       "Cuba                              0.014624\n",
       "Mozambique                        0.014624\n",
       "Kyrgyzstan                        0.014624\n",
       "Jordan                            0.014624\n",
       "Guatemala                         0.014624\n",
       "Turkmenistan                      0.014624\n",
       "Cameroon                          0.014624\n",
       "Aruba                             0.014624\n",
       "Anguilla                          0.014624\n",
       "Angola                            0.014624\n",
       "Sudan                             0.014624\n",
       "Name: CountryLive, Length: 137, dtype: float64"
      ]
     },
     "execution_count": 177,
     "metadata": {},
     "output_type": "execute_result"
    }
   ],
   "source": [
    "countryLive['CountryLive'].value_counts(normalize=True) * 100"
   ]
  },
  {
   "cell_type": "code",
   "execution_count": 178,
   "metadata": {
    "collapsed": false
   },
   "outputs": [],
   "source": [
    "#absolute_freq\n",
    "absolute_freq = countryLive['CountryLive'].value_counts()\n",
    "#relatvie_freq\n",
    "relative_freq = countryLive['CountryLive'].value_counts(normalize=True) * 100"
   ]
  },
  {
   "cell_type": "code",
   "execution_count": 179,
   "metadata": {
    "collapsed": false
   },
   "outputs": [
    {
     "data": {
      "text/plain": [
       "United States of America         3125\n",
       "India                             528\n",
       "United Kingdom                    315\n",
       "Canada                            260\n",
       "Poland                            131\n",
       "Brazil                            129\n",
       "Germany                           125\n",
       "Australia                         112\n",
       "Russia                            102\n",
       "Ukraine                            89\n",
       "Nigeria                            84\n",
       "Spain                              77\n",
       "France                             75\n",
       "Romania                            71\n",
       "Netherlands (Holland, Europe)      65\n",
       "Italy                              62\n",
       "Serbia                             52\n",
       "Philippines                        52\n",
       "Greece                             46\n",
       "Ireland                            43\n",
       "South Africa                       39\n",
       "Mexico                             37\n",
       "Turkey                             36\n",
       "Hungary                            34\n",
       "Singapore                          34\n",
       "New Zealand                        33\n",
       "Argentina                          32\n",
       "Croatia                            32\n",
       "Indonesia                          31\n",
       "Pakistan                           31\n",
       "                                 ... \n",
       "Vanuatu                             1\n",
       "Liberia                             1\n",
       "Myanmar                             1\n",
       "Rwanda                              1\n",
       "Panama                              1\n",
       "Botswana                            1\n",
       "Channel Islands                     1\n",
       "Trinidad & Tobago                   1\n",
       "Gambia                              1\n",
       "Samoa                               1\n",
       "Nicaragua                           1\n",
       "Cayman Islands                      1\n",
       "Gibraltar                           1\n",
       "Qatar                               1\n",
       "Nambia                              1\n",
       "Yemen                               1\n",
       "Guadeloupe                          1\n",
       "Papua New Guinea                    1\n",
       "Bolivia                             1\n",
       "Cuba                                1\n",
       "Mozambique                          1\n",
       "Kyrgyzstan                          1\n",
       "Jordan                              1\n",
       "Guatemala                           1\n",
       "Turkmenistan                        1\n",
       "Cameroon                            1\n",
       "Aruba                               1\n",
       "Anguilla                            1\n",
       "Angola                              1\n",
       "Sudan                               1\n",
       "Name: CountryLive, Length: 137, dtype: int64"
      ]
     },
     "execution_count": 179,
     "metadata": {},
     "output_type": "execute_result"
    }
   ],
   "source": [
    "absolute_freq"
   ]
  },
  {
   "cell_type": "code",
   "execution_count": 180,
   "metadata": {
    "collapsed": false
   },
   "outputs": [
    {
     "data": {
      "text/plain": [
       "United States of America         45.700497\n",
       "India                             7.721556\n",
       "United Kingdom                    4.606610\n",
       "Canada                            3.802281\n",
       "Poland                            1.915765\n",
       "Brazil                            1.886517\n",
       "Germany                           1.828020\n",
       "Australia                         1.637906\n",
       "Russia                            1.491664\n",
       "Ukraine                           1.301550\n",
       "Nigeria                           1.228429\n",
       "Spain                             1.126060\n",
       "France                            1.096812\n",
       "Romania                           1.038315\n",
       "Netherlands (Holland, Europe)     0.950570\n",
       "Italy                             0.906698\n",
       "Serbia                            0.760456\n",
       "Philippines                       0.760456\n",
       "Greece                            0.672711\n",
       "Ireland                           0.628839\n",
       "South Africa                      0.570342\n",
       "Mexico                            0.541094\n",
       "Turkey                            0.526470\n",
       "Hungary                           0.497221\n",
       "Singapore                         0.497221\n",
       "New Zealand                       0.482597\n",
       "Argentina                         0.467973\n",
       "Croatia                           0.467973\n",
       "Indonesia                         0.453349\n",
       "Pakistan                          0.453349\n",
       "                                   ...    \n",
       "Vanuatu                           0.014624\n",
       "Liberia                           0.014624\n",
       "Myanmar                           0.014624\n",
       "Rwanda                            0.014624\n",
       "Panama                            0.014624\n",
       "Botswana                          0.014624\n",
       "Channel Islands                   0.014624\n",
       "Trinidad & Tobago                 0.014624\n",
       "Gambia                            0.014624\n",
       "Samoa                             0.014624\n",
       "Nicaragua                         0.014624\n",
       "Cayman Islands                    0.014624\n",
       "Gibraltar                         0.014624\n",
       "Qatar                             0.014624\n",
       "Nambia                            0.014624\n",
       "Yemen                             0.014624\n",
       "Guadeloupe                        0.014624\n",
       "Papua New Guinea                  0.014624\n",
       "Bolivia                           0.014624\n",
       "Cuba                              0.014624\n",
       "Mozambique                        0.014624\n",
       "Kyrgyzstan                        0.014624\n",
       "Jordan                            0.014624\n",
       "Guatemala                         0.014624\n",
       "Turkmenistan                      0.014624\n",
       "Cameroon                          0.014624\n",
       "Aruba                             0.014624\n",
       "Anguilla                          0.014624\n",
       "Angola                            0.014624\n",
       "Sudan                             0.014624\n",
       "Name: CountryLive, Length: 137, dtype: float64"
      ]
     },
     "execution_count": 180,
     "metadata": {},
     "output_type": "execute_result"
    }
   ],
   "source": [
    "relative_freq"
   ]
  },
  {
   "cell_type": "code",
   "execution_count": 181,
   "metadata": {
    "collapsed": false
   },
   "outputs": [
    {
     "data": {
      "text/html": [
       "<div>\n",
       "<style scoped>\n",
       "    .dataframe tbody tr th:only-of-type {\n",
       "        vertical-align: middle;\n",
       "    }\n",
       "\n",
       "    .dataframe tbody tr th {\n",
       "        vertical-align: top;\n",
       "    }\n",
       "\n",
       "    .dataframe thead th {\n",
       "        text-align: right;\n",
       "    }\n",
       "</style>\n",
       "<table border=\"1\" class=\"dataframe\">\n",
       "  <thead>\n",
       "    <tr style=\"text-align: right;\">\n",
       "      <th></th>\n",
       "      <th>Absolute frequency</th>\n",
       "      <th>Percentage</th>\n",
       "    </tr>\n",
       "  </thead>\n",
       "  <tbody>\n",
       "    <tr>\n",
       "      <th>United States of America</th>\n",
       "      <td>3125</td>\n",
       "      <td>45.700497</td>\n",
       "    </tr>\n",
       "    <tr>\n",
       "      <th>India</th>\n",
       "      <td>528</td>\n",
       "      <td>7.721556</td>\n",
       "    </tr>\n",
       "    <tr>\n",
       "      <th>United Kingdom</th>\n",
       "      <td>315</td>\n",
       "      <td>4.606610</td>\n",
       "    </tr>\n",
       "    <tr>\n",
       "      <th>Canada</th>\n",
       "      <td>260</td>\n",
       "      <td>3.802281</td>\n",
       "    </tr>\n",
       "    <tr>\n",
       "      <th>Poland</th>\n",
       "      <td>131</td>\n",
       "      <td>1.915765</td>\n",
       "    </tr>\n",
       "    <tr>\n",
       "      <th>Brazil</th>\n",
       "      <td>129</td>\n",
       "      <td>1.886517</td>\n",
       "    </tr>\n",
       "    <tr>\n",
       "      <th>Germany</th>\n",
       "      <td>125</td>\n",
       "      <td>1.828020</td>\n",
       "    </tr>\n",
       "    <tr>\n",
       "      <th>Australia</th>\n",
       "      <td>112</td>\n",
       "      <td>1.637906</td>\n",
       "    </tr>\n",
       "    <tr>\n",
       "      <th>Russia</th>\n",
       "      <td>102</td>\n",
       "      <td>1.491664</td>\n",
       "    </tr>\n",
       "    <tr>\n",
       "      <th>Ukraine</th>\n",
       "      <td>89</td>\n",
       "      <td>1.301550</td>\n",
       "    </tr>\n",
       "    <tr>\n",
       "      <th>Nigeria</th>\n",
       "      <td>84</td>\n",
       "      <td>1.228429</td>\n",
       "    </tr>\n",
       "    <tr>\n",
       "      <th>Spain</th>\n",
       "      <td>77</td>\n",
       "      <td>1.126060</td>\n",
       "    </tr>\n",
       "    <tr>\n",
       "      <th>France</th>\n",
       "      <td>75</td>\n",
       "      <td>1.096812</td>\n",
       "    </tr>\n",
       "    <tr>\n",
       "      <th>Romania</th>\n",
       "      <td>71</td>\n",
       "      <td>1.038315</td>\n",
       "    </tr>\n",
       "    <tr>\n",
       "      <th>Netherlands (Holland, Europe)</th>\n",
       "      <td>65</td>\n",
       "      <td>0.950570</td>\n",
       "    </tr>\n",
       "    <tr>\n",
       "      <th>Italy</th>\n",
       "      <td>62</td>\n",
       "      <td>0.906698</td>\n",
       "    </tr>\n",
       "    <tr>\n",
       "      <th>Serbia</th>\n",
       "      <td>52</td>\n",
       "      <td>0.760456</td>\n",
       "    </tr>\n",
       "    <tr>\n",
       "      <th>Philippines</th>\n",
       "      <td>52</td>\n",
       "      <td>0.760456</td>\n",
       "    </tr>\n",
       "    <tr>\n",
       "      <th>Greece</th>\n",
       "      <td>46</td>\n",
       "      <td>0.672711</td>\n",
       "    </tr>\n",
       "    <tr>\n",
       "      <th>Ireland</th>\n",
       "      <td>43</td>\n",
       "      <td>0.628839</td>\n",
       "    </tr>\n",
       "    <tr>\n",
       "      <th>South Africa</th>\n",
       "      <td>39</td>\n",
       "      <td>0.570342</td>\n",
       "    </tr>\n",
       "    <tr>\n",
       "      <th>Mexico</th>\n",
       "      <td>37</td>\n",
       "      <td>0.541094</td>\n",
       "    </tr>\n",
       "    <tr>\n",
       "      <th>Turkey</th>\n",
       "      <td>36</td>\n",
       "      <td>0.526470</td>\n",
       "    </tr>\n",
       "    <tr>\n",
       "      <th>Hungary</th>\n",
       "      <td>34</td>\n",
       "      <td>0.497221</td>\n",
       "    </tr>\n",
       "    <tr>\n",
       "      <th>Singapore</th>\n",
       "      <td>34</td>\n",
       "      <td>0.497221</td>\n",
       "    </tr>\n",
       "    <tr>\n",
       "      <th>New Zealand</th>\n",
       "      <td>33</td>\n",
       "      <td>0.482597</td>\n",
       "    </tr>\n",
       "    <tr>\n",
       "      <th>Argentina</th>\n",
       "      <td>32</td>\n",
       "      <td>0.467973</td>\n",
       "    </tr>\n",
       "    <tr>\n",
       "      <th>Croatia</th>\n",
       "      <td>32</td>\n",
       "      <td>0.467973</td>\n",
       "    </tr>\n",
       "    <tr>\n",
       "      <th>Indonesia</th>\n",
       "      <td>31</td>\n",
       "      <td>0.453349</td>\n",
       "    </tr>\n",
       "    <tr>\n",
       "      <th>Pakistan</th>\n",
       "      <td>31</td>\n",
       "      <td>0.453349</td>\n",
       "    </tr>\n",
       "    <tr>\n",
       "      <th>...</th>\n",
       "      <td>...</td>\n",
       "      <td>...</td>\n",
       "    </tr>\n",
       "    <tr>\n",
       "      <th>Vanuatu</th>\n",
       "      <td>1</td>\n",
       "      <td>0.014624</td>\n",
       "    </tr>\n",
       "    <tr>\n",
       "      <th>Liberia</th>\n",
       "      <td>1</td>\n",
       "      <td>0.014624</td>\n",
       "    </tr>\n",
       "    <tr>\n",
       "      <th>Myanmar</th>\n",
       "      <td>1</td>\n",
       "      <td>0.014624</td>\n",
       "    </tr>\n",
       "    <tr>\n",
       "      <th>Rwanda</th>\n",
       "      <td>1</td>\n",
       "      <td>0.014624</td>\n",
       "    </tr>\n",
       "    <tr>\n",
       "      <th>Panama</th>\n",
       "      <td>1</td>\n",
       "      <td>0.014624</td>\n",
       "    </tr>\n",
       "    <tr>\n",
       "      <th>Botswana</th>\n",
       "      <td>1</td>\n",
       "      <td>0.014624</td>\n",
       "    </tr>\n",
       "    <tr>\n",
       "      <th>Channel Islands</th>\n",
       "      <td>1</td>\n",
       "      <td>0.014624</td>\n",
       "    </tr>\n",
       "    <tr>\n",
       "      <th>Trinidad &amp; Tobago</th>\n",
       "      <td>1</td>\n",
       "      <td>0.014624</td>\n",
       "    </tr>\n",
       "    <tr>\n",
       "      <th>Gambia</th>\n",
       "      <td>1</td>\n",
       "      <td>0.014624</td>\n",
       "    </tr>\n",
       "    <tr>\n",
       "      <th>Samoa</th>\n",
       "      <td>1</td>\n",
       "      <td>0.014624</td>\n",
       "    </tr>\n",
       "    <tr>\n",
       "      <th>Nicaragua</th>\n",
       "      <td>1</td>\n",
       "      <td>0.014624</td>\n",
       "    </tr>\n",
       "    <tr>\n",
       "      <th>Cayman Islands</th>\n",
       "      <td>1</td>\n",
       "      <td>0.014624</td>\n",
       "    </tr>\n",
       "    <tr>\n",
       "      <th>Gibraltar</th>\n",
       "      <td>1</td>\n",
       "      <td>0.014624</td>\n",
       "    </tr>\n",
       "    <tr>\n",
       "      <th>Qatar</th>\n",
       "      <td>1</td>\n",
       "      <td>0.014624</td>\n",
       "    </tr>\n",
       "    <tr>\n",
       "      <th>Nambia</th>\n",
       "      <td>1</td>\n",
       "      <td>0.014624</td>\n",
       "    </tr>\n",
       "    <tr>\n",
       "      <th>Yemen</th>\n",
       "      <td>1</td>\n",
       "      <td>0.014624</td>\n",
       "    </tr>\n",
       "    <tr>\n",
       "      <th>Guadeloupe</th>\n",
       "      <td>1</td>\n",
       "      <td>0.014624</td>\n",
       "    </tr>\n",
       "    <tr>\n",
       "      <th>Papua New Guinea</th>\n",
       "      <td>1</td>\n",
       "      <td>0.014624</td>\n",
       "    </tr>\n",
       "    <tr>\n",
       "      <th>Bolivia</th>\n",
       "      <td>1</td>\n",
       "      <td>0.014624</td>\n",
       "    </tr>\n",
       "    <tr>\n",
       "      <th>Cuba</th>\n",
       "      <td>1</td>\n",
       "      <td>0.014624</td>\n",
       "    </tr>\n",
       "    <tr>\n",
       "      <th>Mozambique</th>\n",
       "      <td>1</td>\n",
       "      <td>0.014624</td>\n",
       "    </tr>\n",
       "    <tr>\n",
       "      <th>Kyrgyzstan</th>\n",
       "      <td>1</td>\n",
       "      <td>0.014624</td>\n",
       "    </tr>\n",
       "    <tr>\n",
       "      <th>Jordan</th>\n",
       "      <td>1</td>\n",
       "      <td>0.014624</td>\n",
       "    </tr>\n",
       "    <tr>\n",
       "      <th>Guatemala</th>\n",
       "      <td>1</td>\n",
       "      <td>0.014624</td>\n",
       "    </tr>\n",
       "    <tr>\n",
       "      <th>Turkmenistan</th>\n",
       "      <td>1</td>\n",
       "      <td>0.014624</td>\n",
       "    </tr>\n",
       "    <tr>\n",
       "      <th>Cameroon</th>\n",
       "      <td>1</td>\n",
       "      <td>0.014624</td>\n",
       "    </tr>\n",
       "    <tr>\n",
       "      <th>Aruba</th>\n",
       "      <td>1</td>\n",
       "      <td>0.014624</td>\n",
       "    </tr>\n",
       "    <tr>\n",
       "      <th>Anguilla</th>\n",
       "      <td>1</td>\n",
       "      <td>0.014624</td>\n",
       "    </tr>\n",
       "    <tr>\n",
       "      <th>Angola</th>\n",
       "      <td>1</td>\n",
       "      <td>0.014624</td>\n",
       "    </tr>\n",
       "    <tr>\n",
       "      <th>Sudan</th>\n",
       "      <td>1</td>\n",
       "      <td>0.014624</td>\n",
       "    </tr>\n",
       "  </tbody>\n",
       "</table>\n",
       "<p>137 rows × 2 columns</p>\n",
       "</div>"
      ],
      "text/plain": [
       "                               Absolute frequency  Percentage\n",
       "United States of America                     3125   45.700497\n",
       "India                                         528    7.721556\n",
       "United Kingdom                                315    4.606610\n",
       "Canada                                        260    3.802281\n",
       "Poland                                        131    1.915765\n",
       "Brazil                                        129    1.886517\n",
       "Germany                                       125    1.828020\n",
       "Australia                                     112    1.637906\n",
       "Russia                                        102    1.491664\n",
       "Ukraine                                        89    1.301550\n",
       "Nigeria                                        84    1.228429\n",
       "Spain                                          77    1.126060\n",
       "France                                         75    1.096812\n",
       "Romania                                        71    1.038315\n",
       "Netherlands (Holland, Europe)                  65    0.950570\n",
       "Italy                                          62    0.906698\n",
       "Serbia                                         52    0.760456\n",
       "Philippines                                    52    0.760456\n",
       "Greece                                         46    0.672711\n",
       "Ireland                                        43    0.628839\n",
       "South Africa                                   39    0.570342\n",
       "Mexico                                         37    0.541094\n",
       "Turkey                                         36    0.526470\n",
       "Hungary                                        34    0.497221\n",
       "Singapore                                      34    0.497221\n",
       "New Zealand                                    33    0.482597\n",
       "Argentina                                      32    0.467973\n",
       "Croatia                                        32    0.467973\n",
       "Indonesia                                      31    0.453349\n",
       "Pakistan                                       31    0.453349\n",
       "...                                           ...         ...\n",
       "Vanuatu                                         1    0.014624\n",
       "Liberia                                         1    0.014624\n",
       "Myanmar                                         1    0.014624\n",
       "Rwanda                                          1    0.014624\n",
       "Panama                                          1    0.014624\n",
       "Botswana                                        1    0.014624\n",
       "Channel Islands                                 1    0.014624\n",
       "Trinidad & Tobago                               1    0.014624\n",
       "Gambia                                          1    0.014624\n",
       "Samoa                                           1    0.014624\n",
       "Nicaragua                                       1    0.014624\n",
       "Cayman Islands                                  1    0.014624\n",
       "Gibraltar                                       1    0.014624\n",
       "Qatar                                           1    0.014624\n",
       "Nambia                                          1    0.014624\n",
       "Yemen                                           1    0.014624\n",
       "Guadeloupe                                      1    0.014624\n",
       "Papua New Guinea                                1    0.014624\n",
       "Bolivia                                         1    0.014624\n",
       "Cuba                                            1    0.014624\n",
       "Mozambique                                      1    0.014624\n",
       "Kyrgyzstan                                      1    0.014624\n",
       "Jordan                                          1    0.014624\n",
       "Guatemala                                       1    0.014624\n",
       "Turkmenistan                                    1    0.014624\n",
       "Cameroon                                        1    0.014624\n",
       "Aruba                                           1    0.014624\n",
       "Anguilla                                        1    0.014624\n",
       "Angola                                          1    0.014624\n",
       "Sudan                                           1    0.014624\n",
       "\n",
       "[137 rows x 2 columns]"
      ]
     },
     "execution_count": 181,
     "metadata": {},
     "output_type": "execute_result"
    }
   ],
   "source": [
    "# Display the frequency tables in a more readable format\n",
    "pd.DataFrame(data = {'Absolute frequency': absolute_freq, \n",
    "                     'Percentage': relative_freq}\n",
    "            )"
   ]
  },
  {
   "cell_type": "markdown",
   "metadata": {},
   "source": [
    "45.7% of our potential customers are located in the US, and this definitely seems like the most interesting market. India has the second customer density, but it's just 7.7%, which is not too far from the United Kingdom (4.6%) or Canada (3.8%).\n",
    "\n",
    "This is useful information, but we need to go more in depth than this and figure out how much money people are actually willing to spend on learning. Advertising in high-density markets where most people are only willing to learn for free is extremely unlikely to be profitable for us."
   ]
  },
  {
   "cell_type": "markdown",
   "metadata": {},
   "source": [
    "# Spending Money for Learning\n",
    "\n",
    "> Previously, we found useful information about the location of new coders, and what are the countries where new coders live, but we need to go more in depth with our analysis before taking a decision. We can continue by figuring out how much money new coders are actually willing to spend on learning. Advertising within markets where most people are only willing to learn for free is extremely unlikely to be profitable for us.\n",
    "\n",
    "> The **MoneyForLearning**  column describes in American dollars the amount of money spent by participants from the moment they started coding until the moment they completed the survey. Our company sells subscriptions at a price of $59 per month, and for this reason we're interested in finding out how much money each student spends per month.\n",
    "\n",
    "> It also seems like a good idea to narrow down our analysis to only four countries: the US, India, the United Kingdom, and Canada. Two reasons for this decision are:\n",
    "\n",
    "- These are the countries having the highest absolute frequencies in our sample, which means we have a decent amount of data for each.\n",
    "- Our courses are written in English, and English is an official language in all these four countries. The more people that know English, the better our chances to target the right people with our ads."
   ]
  },
  {
   "cell_type": "code",
   "execution_count": 182,
   "metadata": {
    "collapsed": false
   },
   "outputs": [],
   "source": [
    "#Some students answered that they had been learning to code for 0 months (it might be that they had just started when they completed the survey). \n",
    "# To avoid dividing by 0, replace all the values of 0 with 1.\n",
    "\n",
    "countryLive['MonthsProgramming'].replace(0,1,inplace=True)\n",
    "\n"
   ]
  },
  {
   "cell_type": "code",
   "execution_count": 183,
   "metadata": {
    "collapsed": false
   },
   "outputs": [],
   "source": [
    "countryLive['MoneySpent'] = countryLive['MoneyForLearning'] / countryLive['MonthsProgramming']"
   ]
  },
  {
   "cell_type": "code",
   "execution_count": 184,
   "metadata": {
    "collapsed": false
   },
   "outputs": [
    {
     "data": {
      "text/plain": [
       "0"
      ]
     },
     "execution_count": 184,
     "metadata": {},
     "output_type": "execute_result"
    }
   ],
   "source": [
    "# Find out how many null values there are in the new column \n",
    "\n",
    "countryLive['MoneySpent'].isnull().sum()\n",
    "survey_good = countryLive[countryLive['MoneySpent'].notnull()].copy()\n",
    "# Keep only the rows that don't have a null value for the new column.\n",
    "survey_good['MoneySpent'].isnull().sum()"
   ]
  },
  {
   "cell_type": "code",
   "execution_count": 185,
   "metadata": {
    "collapsed": false
   },
   "outputs": [
    {
     "name": "stdout",
     "output_type": "stream",
     "text": [
      "105\n",
      "0\n"
     ]
    }
   ],
   "source": [
    "#Remove also any rows that have null values in the CountryLive column.\n",
    "print(survey_good['CountryLive'].isnull().sum())\n",
    "survey_good = survey_good[survey_good['CountryLive'].notnull()].copy()\n",
    "print(survey_good['CountryLive'].isnull().sum())"
   ]
  },
  {
   "cell_type": "code",
   "execution_count": 186,
   "metadata": {
    "collapsed": false
   },
   "outputs": [],
   "source": [
    "import numpy as np"
   ]
  },
  {
   "cell_type": "code",
   "execution_count": 187,
   "metadata": {
    "collapsed": false
   },
   "outputs": [
    {
     "data": {
      "text/plain": [
       "United States of America    2933\n",
       "India                        463\n",
       "United Kingdom               279\n",
       "Canada                       240\n",
       "Poland                       122\n",
       "Name: CountryLive, dtype: int64"
      ]
     },
     "execution_count": 187,
     "metadata": {},
     "output_type": "execute_result"
    }
   ],
   "source": [
    "# Frequency table to check if we still have enough data\n",
    "survey_good['CountryLive'].value_counts().head()"
   ]
  },
  {
   "cell_type": "code",
   "execution_count": 188,
   "metadata": {
    "collapsed": false
   },
   "outputs": [],
   "source": [
    "survey_mean = survey_good.groupby('CountryLive').mean()\n",
    "# Group the remaining data by the CountryLive column and find out how much money a student \n",
    "# spends on average each month in the US, India, the United Kingdom and Canada.\n",
    "\n",
    "survey_top_4 = survey_mean['MoneySpent'] [['United States of America','India', \\\n",
    "                          'Canada','United Kingdom']]\n"
   ]
  },
  {
   "cell_type": "code",
   "execution_count": 189,
   "metadata": {
    "collapsed": false
   },
   "outputs": [
    {
     "data": {
      "text/plain": [
       "CountryLive\n",
       "United States of America    227.997996\n",
       "India                       135.100982\n",
       "Canada                      113.510961\n",
       "United Kingdom               45.534443\n",
       "Name: MoneySpent, dtype: float64"
      ]
     },
     "execution_count": 189,
     "metadata": {},
     "output_type": "execute_result"
    }
   ],
   "source": [
    "survey_top_4"
   ]
  },
  {
   "cell_type": "markdown",
   "metadata": {},
   "source": [
    "The results for the United Kingdom and Canada are a bit surprising relative to the values we see for India. If we considered a few socio-economical metrics (like GDP per capita), we'd intuitively expect people in the UK and Canada to spend more on learning than people in India.\n",
    "\n",
    "It might be that we don't have have enough representative data for the United Kingdom and Canada, or we have some outliers (maybe coming from wrong survey answers) making the mean too large for India, or too low for the UK and Canada. Or it might be that the results are correct.\n"
   ]
  },
  {
   "cell_type": "code",
   "execution_count": 190,
   "metadata": {
    "collapsed": false
   },
   "outputs": [
    {
     "name": "stderr",
     "output_type": "stream",
     "text": [
      "/dataquest/system/env/python3/lib/python3.4/site-packages/seaborn/categorical.py:454: FutureWarning:\n",
      "\n",
      "remove_na is deprecated and is a private function. Do not use.\n",
      "\n"
     ]
    },
    {
     "data": {
      "image/png": "[encoded data removed]",
      "text/plain": [
       "<matplotlib.figure.Figure at 0x7f21fe9524e0>"
      ]
     },
     "metadata": {},
     "output_type": "display_data"
    }
   ],
   "source": [
    "# Generate four box plots on the same figure to visualize for \n",
    "# each country (the US, India, the United Kingdom, Canada) \n",
    "# the distribution of the variable that describes how much money \n",
    "# each participant had spent per month.\n",
    "\n",
    "# Isolate 4 countried \n",
    "\n",
    "\n",
    "only4 = survey_good[survey_good['CountryLive'].str.contains('India|Canada| \\\n",
    "                                                            United Kingdom| \\\n",
    "                                                            United States of America')]\n",
    "\n",
    "only_4 = survey_good[survey_good['CountryLive'].str.contains(\n",
    "    'United States of America|India|United Kingdom|Canada')]\n",
    "\n",
    "import seaborn as sns\n",
    "\n",
    "sns.boxplot(y = 'MoneySpent', x = 'CountryLive',data = only_4)\n",
    "plt.title('Money Spent Per Month Per Country\\n(Distributions)',\n",
    "         fontsize = 16)\n",
    "plt.ylabel('Money per month (US dollars)')\n",
    "plt.xlabel('Country')\n",
    "plt.xticks(range(4), ['US', 'UK', 'India', 'Canada']) # avoids tick labels overlap\n",
    "plt.show()\n",
    "\n"
   ]
  },
  {
   "cell_type": "code",
   "execution_count": 191,
   "metadata": {
    "collapsed": false
   },
   "outputs": [
    {
     "data": {
      "text/plain": [
       "count     2933.000000\n",
       "mean       227.997996\n",
       "std       1940.245614\n",
       "min          0.000000\n",
       "25%          0.000000\n",
       "50%          3.333333\n",
       "75%         50.000000\n",
       "max      80000.000000\n",
       "Name: MoneySpent, dtype: float64"
      ]
     },
     "execution_count": 191,
     "metadata": {},
     "output_type": "execute_result"
    }
   ],
   "source": [
    "only_4[\n",
    "    only_4['CountryLive'] == 'United States of America']['MoneySpent'].describe()"
   ]
  },
  {
   "cell_type": "code",
   "execution_count": 192,
   "metadata": {
    "collapsed": false
   },
   "outputs": [
    {
     "data": {
      "text/plain": [
       "count      463.000000\n",
       "mean       135.100982\n",
       "std        692.960378\n",
       "min          0.000000\n",
       "25%          0.000000\n",
       "50%          0.000000\n",
       "75%         13.250000\n",
       "max      10000.000000\n",
       "Name: MoneySpent, dtype: float64"
      ]
     },
     "execution_count": 192,
     "metadata": {},
     "output_type": "execute_result"
    }
   ],
   "source": [
    "only_4[\n",
    "    only_4['CountryLive'] == 'India']['MoneySpent'].describe()"
   ]
  },
  {
   "cell_type": "code",
   "execution_count": 193,
   "metadata": {
    "collapsed": false
   },
   "outputs": [
    {
     "data": {
      "text/plain": [
       "count     240.000000\n",
       "mean      113.510961\n",
       "std       441.014158\n",
       "min         0.000000\n",
       "25%         0.000000\n",
       "50%         0.000000\n",
       "75%        25.000000\n",
       "max      5000.000000\n",
       "Name: MoneySpent, dtype: float64"
      ]
     },
     "execution_count": 193,
     "metadata": {},
     "output_type": "execute_result"
    }
   ],
   "source": [
    "only_4[\n",
    "    only_4['CountryLive'] == 'Canada']['MoneySpent'].describe()"
   ]
  },
  {
   "cell_type": "code",
   "execution_count": 194,
   "metadata": {
    "collapsed": false
   },
   "outputs": [
    {
     "data": {
      "text/plain": [
       "count     279.000000\n",
       "mean       45.534443\n",
       "std       162.311836\n",
       "min         0.000000\n",
       "25%         0.000000\n",
       "50%         0.000000\n",
       "75%        20.416667\n",
       "max      1400.000000\n",
       "Name: MoneySpent, dtype: float64"
      ]
     },
     "execution_count": 194,
     "metadata": {},
     "output_type": "execute_result"
    }
   ],
   "source": [
    "only_4[\n",
    "    only_4['CountryLive'] == 'United Kingdom']['MoneySpent'].describe()"
   ]
  },
  {
   "cell_type": "markdown",
   "metadata": {},
   "source": [
    "Based on above, in US there are outliers having more than $50000 per month, \n",
    "Rebuild the table with only money spent less than 20000"
   ]
  },
  {
   "cell_type": "code",
   "execution_count": 195,
   "metadata": {
    "collapsed": true
   },
   "outputs": [],
   "source": [
    "survey_good = survey_good[survey_good['MoneySpent'] < 20000].copy()"
   ]
  },
  {
   "cell_type": "code",
   "execution_count": 196,
   "metadata": {
    "collapsed": false
   },
   "outputs": [
    {
     "name": "stdout",
     "output_type": "stream",
     "text": [
      "CountryLive\n",
      "United States of America    183.800110\n",
      "India                       135.100982\n",
      "Canada                      113.510961\n",
      "United Kingdom               45.534443\n",
      "Name: MoneySpent, dtype: float64\n"
     ]
    }
   ],
   "source": [
    "# Recompute the Mean\n",
    "\n",
    "new_mean = survey_good.groupby('CountryLive').mean()\n",
    "new_top_4 = new_mean['MoneySpent'] [['United States of America','India', \\\n",
    "                          'Canada','United Kingdom']]\n",
    "print(new_top_4)\n"
   ]
  },
  {
   "cell_type": "code",
   "execution_count": 197,
   "metadata": {
    "collapsed": false
   },
   "outputs": [
    {
     "name": "stderr",
     "output_type": "stream",
     "text": [
      "/dataquest/system/env/python3/lib/python3.4/site-packages/seaborn/categorical.py:454: FutureWarning:\n",
      "\n",
      "remove_na is deprecated and is a private function. Do not use.\n",
      "\n"
     ]
    },
    {
     "data": {
      "image/png": "[encoded data removed]",
      "text/plain": [
       "<matplotlib.figure.Figure at 0x7f21fea4fcc0>"
      ]
     },
     "metadata": {},
     "output_type": "display_data"
    }
   ],
   "source": [
    "# Generate four box plots on the same figure to visualize for \n",
    "# each country (the US, India, the United Kingdom, Canada) \n",
    "# the distribution of the variable that describes how much money \n",
    "# each participant had spent per month.\n",
    "\n",
    "# Isolate 4 countried \n",
    "\n",
    "only_4 = survey_good[survey_good['CountryLive'].str.contains(\n",
    "    'United States of America|India|United Kingdom|Canada')]\n",
    "\n",
    "import seaborn as sns\n",
    "\n",
    "sns.boxplot(y = 'MoneySpent', x = 'CountryLive',data = only_4)\n",
    "plt.title('Money Spent Per Month Per Country\\n(Distributions)',\n",
    "         fontsize = 16)\n",
    "plt.ylabel('Money per month (US dollars)')\n",
    "plt.xlabel('Country')\n",
    "plt.xticks(range(4), ['US', 'UK', 'India', 'Canada']) # avoids tick labels overlap\n",
    "plt.show()\n",
    "\n"
   ]
  },
  {
   "cell_type": "code",
   "execution_count": 198,
   "metadata": {
    "collapsed": false
   },
   "outputs": [
    {
     "data": {
      "text/plain": [
       "(6, 137)"
      ]
     },
     "execution_count": 198,
     "metadata": {},
     "output_type": "execute_result"
    }
   ],
   "source": [
    "# India has few outliers \n",
    "# Isololate anyone spending > 2500\n",
    "\n",
    "outliers_india = only_4 [( only_4['CountryLive'] == 'India')  & \n",
    "                         ( only_4['MoneySpent'] >= 2500)].copy()\n",
    "\n",
    "outliers_india.shape\n"
   ]
  },
  {
   "cell_type": "code",
   "execution_count": 199,
   "metadata": {
    "collapsed": false
   },
   "outputs": [
    {
     "data": {
      "text/html": [
       "<div>\n",
       "<style scoped>\n",
       "    .dataframe tbody tr th:only-of-type {\n",
       "        vertical-align: middle;\n",
       "    }\n",
       "\n",
       "    .dataframe tbody tr th {\n",
       "        vertical-align: top;\n",
       "    }\n",
       "\n",
       "    .dataframe thead th {\n",
       "        text-align: right;\n",
       "    }\n",
       "</style>\n",
       "<table border=\"1\" class=\"dataframe\">\n",
       "  <thead>\n",
       "    <tr style=\"text-align: right;\">\n",
       "      <th></th>\n",
       "      <th>Age</th>\n",
       "      <th>AttendedBootcamp</th>\n",
       "      <th>BootcampFinish</th>\n",
       "      <th>BootcampLoanYesNo</th>\n",
       "      <th>BootcampName</th>\n",
       "      <th>BootcampRecommend</th>\n",
       "      <th>ChildrenNumber</th>\n",
       "      <th>CityPopulation</th>\n",
       "      <th>CodeEventConferences</th>\n",
       "      <th>CodeEventDjangoGirls</th>\n",
       "      <th>...</th>\n",
       "      <th>YouTubeFunFunFunction</th>\n",
       "      <th>YouTubeGoogleDev</th>\n",
       "      <th>YouTubeLearnCode</th>\n",
       "      <th>YouTubeLevelUpTuts</th>\n",
       "      <th>YouTubeMIT</th>\n",
       "      <th>YouTubeMozillaHacks</th>\n",
       "      <th>YouTubeOther</th>\n",
       "      <th>YouTubeSimplilearn</th>\n",
       "      <th>YouTubeTheNewBoston</th>\n",
       "      <th>MoneySpent</th>\n",
       "    </tr>\n",
       "  </thead>\n",
       "  <tbody>\n",
       "    <tr>\n",
       "      <th>1728</th>\n",
       "      <td>24.0</td>\n",
       "      <td>0.0</td>\n",
       "      <td>NaN</td>\n",
       "      <td>NaN</td>\n",
       "      <td>NaN</td>\n",
       "      <td>NaN</td>\n",
       "      <td>NaN</td>\n",
       "      <td>between 100,000 and 1 million</td>\n",
       "      <td>NaN</td>\n",
       "      <td>NaN</td>\n",
       "      <td>...</td>\n",
       "      <td>NaN</td>\n",
       "      <td>NaN</td>\n",
       "      <td>NaN</td>\n",
       "      <td>NaN</td>\n",
       "      <td>NaN</td>\n",
       "      <td>NaN</td>\n",
       "      <td>NaN</td>\n",
       "      <td>NaN</td>\n",
       "      <td>NaN</td>\n",
       "      <td>5000.000000</td>\n",
       "    </tr>\n",
       "    <tr>\n",
       "      <th>1755</th>\n",
       "      <td>20.0</td>\n",
       "      <td>0.0</td>\n",
       "      <td>NaN</td>\n",
       "      <td>NaN</td>\n",
       "      <td>NaN</td>\n",
       "      <td>NaN</td>\n",
       "      <td>NaN</td>\n",
       "      <td>more than 1 million</td>\n",
       "      <td>NaN</td>\n",
       "      <td>NaN</td>\n",
       "      <td>...</td>\n",
       "      <td>NaN</td>\n",
       "      <td>NaN</td>\n",
       "      <td>1.0</td>\n",
       "      <td>NaN</td>\n",
       "      <td>1.0</td>\n",
       "      <td>NaN</td>\n",
       "      <td>NaN</td>\n",
       "      <td>NaN</td>\n",
       "      <td>NaN</td>\n",
       "      <td>3333.333333</td>\n",
       "    </tr>\n",
       "    <tr>\n",
       "      <th>7989</th>\n",
       "      <td>28.0</td>\n",
       "      <td>0.0</td>\n",
       "      <td>NaN</td>\n",
       "      <td>NaN</td>\n",
       "      <td>NaN</td>\n",
       "      <td>NaN</td>\n",
       "      <td>NaN</td>\n",
       "      <td>between 100,000 and 1 million</td>\n",
       "      <td>1.0</td>\n",
       "      <td>NaN</td>\n",
       "      <td>...</td>\n",
       "      <td>NaN</td>\n",
       "      <td>NaN</td>\n",
       "      <td>NaN</td>\n",
       "      <td>NaN</td>\n",
       "      <td>NaN</td>\n",
       "      <td>NaN</td>\n",
       "      <td>NaN</td>\n",
       "      <td>NaN</td>\n",
       "      <td>NaN</td>\n",
       "      <td>5000.000000</td>\n",
       "    </tr>\n",
       "    <tr>\n",
       "      <th>8126</th>\n",
       "      <td>22.0</td>\n",
       "      <td>0.0</td>\n",
       "      <td>NaN</td>\n",
       "      <td>NaN</td>\n",
       "      <td>NaN</td>\n",
       "      <td>NaN</td>\n",
       "      <td>NaN</td>\n",
       "      <td>more than 1 million</td>\n",
       "      <td>NaN</td>\n",
       "      <td>NaN</td>\n",
       "      <td>...</td>\n",
       "      <td>NaN</td>\n",
       "      <td>1.0</td>\n",
       "      <td>NaN</td>\n",
       "      <td>NaN</td>\n",
       "      <td>1.0</td>\n",
       "      <td>NaN</td>\n",
       "      <td>NaN</td>\n",
       "      <td>NaN</td>\n",
       "      <td>1.0</td>\n",
       "      <td>5000.000000</td>\n",
       "    </tr>\n",
       "    <tr>\n",
       "      <th>13398</th>\n",
       "      <td>19.0</td>\n",
       "      <td>0.0</td>\n",
       "      <td>NaN</td>\n",
       "      <td>NaN</td>\n",
       "      <td>NaN</td>\n",
       "      <td>NaN</td>\n",
       "      <td>NaN</td>\n",
       "      <td>more than 1 million</td>\n",
       "      <td>NaN</td>\n",
       "      <td>NaN</td>\n",
       "      <td>...</td>\n",
       "      <td>NaN</td>\n",
       "      <td>NaN</td>\n",
       "      <td>NaN</td>\n",
       "      <td>NaN</td>\n",
       "      <td>NaN</td>\n",
       "      <td>NaN</td>\n",
       "      <td>NaN</td>\n",
       "      <td>NaN</td>\n",
       "      <td>NaN</td>\n",
       "      <td>10000.000000</td>\n",
       "    </tr>\n",
       "    <tr>\n",
       "      <th>15587</th>\n",
       "      <td>27.0</td>\n",
       "      <td>0.0</td>\n",
       "      <td>NaN</td>\n",
       "      <td>NaN</td>\n",
       "      <td>NaN</td>\n",
       "      <td>NaN</td>\n",
       "      <td>NaN</td>\n",
       "      <td>more than 1 million</td>\n",
       "      <td>NaN</td>\n",
       "      <td>NaN</td>\n",
       "      <td>...</td>\n",
       "      <td>NaN</td>\n",
       "      <td>1.0</td>\n",
       "      <td>1.0</td>\n",
       "      <td>NaN</td>\n",
       "      <td>1.0</td>\n",
       "      <td>NaN</td>\n",
       "      <td>NaN</td>\n",
       "      <td>NaN</td>\n",
       "      <td>NaN</td>\n",
       "      <td>4166.666667</td>\n",
       "    </tr>\n",
       "  </tbody>\n",
       "</table>\n",
       "<p>6 rows × 137 columns</p>\n",
       "</div>"
      ],
      "text/plain": [
       "        Age  AttendedBootcamp  BootcampFinish  BootcampLoanYesNo BootcampName  \\\n",
       "1728   24.0               0.0             NaN                NaN          NaN   \n",
       "1755   20.0               0.0             NaN                NaN          NaN   \n",
       "7989   28.0               0.0             NaN                NaN          NaN   \n",
       "8126   22.0               0.0             NaN                NaN          NaN   \n",
       "13398  19.0               0.0             NaN                NaN          NaN   \n",
       "15587  27.0               0.0             NaN                NaN          NaN   \n",
       "\n",
       "       BootcampRecommend  ChildrenNumber                 CityPopulation  \\\n",
       "1728                 NaN             NaN  between 100,000 and 1 million   \n",
       "1755                 NaN             NaN            more than 1 million   \n",
       "7989                 NaN             NaN  between 100,000 and 1 million   \n",
       "8126                 NaN             NaN            more than 1 million   \n",
       "13398                NaN             NaN            more than 1 million   \n",
       "15587                NaN             NaN            more than 1 million   \n",
       "\n",
       "       CodeEventConferences  CodeEventDjangoGirls      ...       \\\n",
       "1728                    NaN                   NaN      ...        \n",
       "1755                    NaN                   NaN      ...        \n",
       "7989                    1.0                   NaN      ...        \n",
       "8126                    NaN                   NaN      ...        \n",
       "13398                   NaN                   NaN      ...        \n",
       "15587                   NaN                   NaN      ...        \n",
       "\n",
       "       YouTubeFunFunFunction  YouTubeGoogleDev  YouTubeLearnCode  \\\n",
       "1728                     NaN               NaN               NaN   \n",
       "1755                     NaN               NaN               1.0   \n",
       "7989                     NaN               NaN               NaN   \n",
       "8126                     NaN               1.0               NaN   \n",
       "13398                    NaN               NaN               NaN   \n",
       "15587                    NaN               1.0               1.0   \n",
       "\n",
       "       YouTubeLevelUpTuts  YouTubeMIT  YouTubeMozillaHacks  YouTubeOther  \\\n",
       "1728                  NaN         NaN                  NaN           NaN   \n",
       "1755                  NaN         1.0                  NaN           NaN   \n",
       "7989                  NaN         NaN                  NaN           NaN   \n",
       "8126                  NaN         1.0                  NaN           NaN   \n",
       "13398                 NaN         NaN                  NaN           NaN   \n",
       "15587                 NaN         1.0                  NaN           NaN   \n",
       "\n",
       "      YouTubeSimplilearn  YouTubeTheNewBoston    MoneySpent  \n",
       "1728                 NaN                  NaN   5000.000000  \n",
       "1755                 NaN                  NaN   3333.333333  \n",
       "7989                 NaN                  NaN   5000.000000  \n",
       "8126                 NaN                  1.0   5000.000000  \n",
       "13398                NaN                  NaN  10000.000000  \n",
       "15587                NaN                  NaN   4166.666667  \n",
       "\n",
       "[6 rows x 137 columns]"
      ]
     },
     "execution_count": 199,
     "metadata": {},
     "output_type": "execute_result"
    }
   ],
   "source": [
    "outliers_india.head(6)"
   ]
  },
  {
   "cell_type": "markdown",
   "metadata": {},
   "source": [
    "It seems that neither participant attended a bootcamp. Overall, it's really hard to figure out from the data whether these persons really spent that much money with learning. The actual question of the survey was \"Aside from university tuition, about how much money have you spent on learning to code so far (in US dollars)?\", so they might have misunderstood and thought university tuition is included. It seems safer to remove these two rows."
   ]
  },
  {
   "cell_type": "code",
   "execution_count": 200,
   "metadata": {
    "collapsed": false
   },
   "outputs": [],
   "source": [
    "only_4 = only_4.drop(outliers_india.index) ## drop by iloc"
   ]
  },
  {
   "cell_type": "code",
   "execution_count": 201,
   "metadata": {
    "collapsed": false
   },
   "outputs": [
    {
     "data": {
      "text/plain": [
       "(11, 137)"
      ]
     },
     "execution_count": 201,
     "metadata": {},
     "output_type": "execute_result"
    }
   ],
   "source": [
    "# US has some outliers spending more than 6000\n",
    "\n",
    "\n",
    "outliers_us = only_4 [( only_4['CountryLive'] == 'United States of America')  & \n",
    "                         ( only_4['MoneySpent'] >= 6000)].copy()\n",
    "\n",
    "outliers_us.shape"
   ]
  },
  {
   "cell_type": "code",
   "execution_count": 202,
   "metadata": {
    "collapsed": false
   },
   "outputs": [
    {
     "data": {
      "text/html": [
       "<div>\n",
       "<style scoped>\n",
       "    .dataframe tbody tr th:only-of-type {\n",
       "        vertical-align: middle;\n",
       "    }\n",
       "\n",
       "    .dataframe tbody tr th {\n",
       "        vertical-align: top;\n",
       "    }\n",
       "\n",
       "    .dataframe thead th {\n",
       "        text-align: right;\n",
       "    }\n",
       "</style>\n",
       "<table border=\"1\" class=\"dataframe\">\n",
       "  <thead>\n",
       "    <tr style=\"text-align: right;\">\n",
       "      <th></th>\n",
       "      <th>Age</th>\n",
       "      <th>AttendedBootcamp</th>\n",
       "      <th>BootcampFinish</th>\n",
       "      <th>BootcampLoanYesNo</th>\n",
       "      <th>BootcampName</th>\n",
       "      <th>BootcampRecommend</th>\n",
       "      <th>ChildrenNumber</th>\n",
       "      <th>CityPopulation</th>\n",
       "      <th>CodeEventConferences</th>\n",
       "      <th>CodeEventDjangoGirls</th>\n",
       "      <th>...</th>\n",
       "      <th>YouTubeFunFunFunction</th>\n",
       "      <th>YouTubeGoogleDev</th>\n",
       "      <th>YouTubeLearnCode</th>\n",
       "      <th>YouTubeLevelUpTuts</th>\n",
       "      <th>YouTubeMIT</th>\n",
       "      <th>YouTubeMozillaHacks</th>\n",
       "      <th>YouTubeOther</th>\n",
       "      <th>YouTubeSimplilearn</th>\n",
       "      <th>YouTubeTheNewBoston</th>\n",
       "      <th>MoneySpent</th>\n",
       "    </tr>\n",
       "  </thead>\n",
       "  <tbody>\n",
       "    <tr>\n",
       "      <th>718</th>\n",
       "      <td>26.0</td>\n",
       "      <td>1.0</td>\n",
       "      <td>0.0</td>\n",
       "      <td>0.0</td>\n",
       "      <td>The Coding Boot Camp at UCLA Extension</td>\n",
       "      <td>1.0</td>\n",
       "      <td>NaN</td>\n",
       "      <td>more than 1 million</td>\n",
       "      <td>1.0</td>\n",
       "      <td>NaN</td>\n",
       "      <td>...</td>\n",
       "      <td>NaN</td>\n",
       "      <td>NaN</td>\n",
       "      <td>NaN</td>\n",
       "      <td>NaN</td>\n",
       "      <td>NaN</td>\n",
       "      <td>NaN</td>\n",
       "      <td>NaN</td>\n",
       "      <td>NaN</td>\n",
       "      <td>NaN</td>\n",
       "      <td>8000.000000</td>\n",
       "    </tr>\n",
       "    <tr>\n",
       "      <th>1222</th>\n",
       "      <td>32.0</td>\n",
       "      <td>1.0</td>\n",
       "      <td>0.0</td>\n",
       "      <td>0.0</td>\n",
       "      <td>The Iron Yard</td>\n",
       "      <td>1.0</td>\n",
       "      <td>NaN</td>\n",
       "      <td>between 100,000 and 1 million</td>\n",
       "      <td>NaN</td>\n",
       "      <td>NaN</td>\n",
       "      <td>...</td>\n",
       "      <td>NaN</td>\n",
       "      <td>NaN</td>\n",
       "      <td>1.0</td>\n",
       "      <td>NaN</td>\n",
       "      <td>NaN</td>\n",
       "      <td>NaN</td>\n",
       "      <td>NaN</td>\n",
       "      <td>NaN</td>\n",
       "      <td>NaN</td>\n",
       "      <td>6500.000000</td>\n",
       "    </tr>\n",
       "    <tr>\n",
       "      <th>3184</th>\n",
       "      <td>34.0</td>\n",
       "      <td>1.0</td>\n",
       "      <td>1.0</td>\n",
       "      <td>0.0</td>\n",
       "      <td>We Can Code IT</td>\n",
       "      <td>1.0</td>\n",
       "      <td>NaN</td>\n",
       "      <td>more than 1 million</td>\n",
       "      <td>NaN</td>\n",
       "      <td>NaN</td>\n",
       "      <td>...</td>\n",
       "      <td>NaN</td>\n",
       "      <td>NaN</td>\n",
       "      <td>NaN</td>\n",
       "      <td>NaN</td>\n",
       "      <td>NaN</td>\n",
       "      <td>NaN</td>\n",
       "      <td>NaN</td>\n",
       "      <td>NaN</td>\n",
       "      <td>NaN</td>\n",
       "      <td>9000.000000</td>\n",
       "    </tr>\n",
       "    <tr>\n",
       "      <th>3930</th>\n",
       "      <td>31.0</td>\n",
       "      <td>0.0</td>\n",
       "      <td>NaN</td>\n",
       "      <td>NaN</td>\n",
       "      <td>NaN</td>\n",
       "      <td>NaN</td>\n",
       "      <td>NaN</td>\n",
       "      <td>between 100,000 and 1 million</td>\n",
       "      <td>NaN</td>\n",
       "      <td>NaN</td>\n",
       "      <td>...</td>\n",
       "      <td>1.0</td>\n",
       "      <td>1.0</td>\n",
       "      <td>1.0</td>\n",
       "      <td>1.0</td>\n",
       "      <td>1.0</td>\n",
       "      <td>NaN</td>\n",
       "      <td>various conf presentations</td>\n",
       "      <td>NaN</td>\n",
       "      <td>NaN</td>\n",
       "      <td>10833.333333</td>\n",
       "    </tr>\n",
       "    <tr>\n",
       "      <th>6805</th>\n",
       "      <td>46.0</td>\n",
       "      <td>1.0</td>\n",
       "      <td>1.0</td>\n",
       "      <td>1.0</td>\n",
       "      <td>Sabio.la</td>\n",
       "      <td>0.0</td>\n",
       "      <td>NaN</td>\n",
       "      <td>between 100,000 and 1 million</td>\n",
       "      <td>NaN</td>\n",
       "      <td>NaN</td>\n",
       "      <td>...</td>\n",
       "      <td>NaN</td>\n",
       "      <td>NaN</td>\n",
       "      <td>NaN</td>\n",
       "      <td>NaN</td>\n",
       "      <td>NaN</td>\n",
       "      <td>NaN</td>\n",
       "      <td>NaN</td>\n",
       "      <td>NaN</td>\n",
       "      <td>NaN</td>\n",
       "      <td>15000.000000</td>\n",
       "    </tr>\n",
       "    <tr>\n",
       "      <th>7198</th>\n",
       "      <td>32.0</td>\n",
       "      <td>0.0</td>\n",
       "      <td>NaN</td>\n",
       "      <td>NaN</td>\n",
       "      <td>NaN</td>\n",
       "      <td>NaN</td>\n",
       "      <td>NaN</td>\n",
       "      <td>more than 1 million</td>\n",
       "      <td>1.0</td>\n",
       "      <td>NaN</td>\n",
       "      <td>...</td>\n",
       "      <td>NaN</td>\n",
       "      <td>1.0</td>\n",
       "      <td>1.0</td>\n",
       "      <td>1.0</td>\n",
       "      <td>NaN</td>\n",
       "      <td>NaN</td>\n",
       "      <td>NaN</td>\n",
       "      <td>NaN</td>\n",
       "      <td>NaN</td>\n",
       "      <td>14000.000000</td>\n",
       "    </tr>\n",
       "    <tr>\n",
       "      <th>7505</th>\n",
       "      <td>26.0</td>\n",
       "      <td>1.0</td>\n",
       "      <td>0.0</td>\n",
       "      <td>1.0</td>\n",
       "      <td>Codeup</td>\n",
       "      <td>0.0</td>\n",
       "      <td>NaN</td>\n",
       "      <td>more than 1 million</td>\n",
       "      <td>NaN</td>\n",
       "      <td>NaN</td>\n",
       "      <td>...</td>\n",
       "      <td>NaN</td>\n",
       "      <td>NaN</td>\n",
       "      <td>NaN</td>\n",
       "      <td>NaN</td>\n",
       "      <td>1.0</td>\n",
       "      <td>NaN</td>\n",
       "      <td>NaN</td>\n",
       "      <td>NaN</td>\n",
       "      <td>NaN</td>\n",
       "      <td>6666.666667</td>\n",
       "    </tr>\n",
       "    <tr>\n",
       "      <th>9778</th>\n",
       "      <td>33.0</td>\n",
       "      <td>1.0</td>\n",
       "      <td>0.0</td>\n",
       "      <td>1.0</td>\n",
       "      <td>Grand Circus</td>\n",
       "      <td>1.0</td>\n",
       "      <td>NaN</td>\n",
       "      <td>between 100,000 and 1 million</td>\n",
       "      <td>NaN</td>\n",
       "      <td>NaN</td>\n",
       "      <td>...</td>\n",
       "      <td>NaN</td>\n",
       "      <td>NaN</td>\n",
       "      <td>NaN</td>\n",
       "      <td>NaN</td>\n",
       "      <td>NaN</td>\n",
       "      <td>NaN</td>\n",
       "      <td>NaN</td>\n",
       "      <td>NaN</td>\n",
       "      <td>NaN</td>\n",
       "      <td>8000.000000</td>\n",
       "    </tr>\n",
       "    <tr>\n",
       "      <th>16650</th>\n",
       "      <td>29.0</td>\n",
       "      <td>0.0</td>\n",
       "      <td>NaN</td>\n",
       "      <td>NaN</td>\n",
       "      <td>NaN</td>\n",
       "      <td>NaN</td>\n",
       "      <td>2.0</td>\n",
       "      <td>more than 1 million</td>\n",
       "      <td>NaN</td>\n",
       "      <td>NaN</td>\n",
       "      <td>...</td>\n",
       "      <td>NaN</td>\n",
       "      <td>NaN</td>\n",
       "      <td>NaN</td>\n",
       "      <td>NaN</td>\n",
       "      <td>NaN</td>\n",
       "      <td>NaN</td>\n",
       "      <td>NaN</td>\n",
       "      <td>NaN</td>\n",
       "      <td>1.0</td>\n",
       "      <td>16666.666667</td>\n",
       "    </tr>\n",
       "    <tr>\n",
       "      <th>16997</th>\n",
       "      <td>27.0</td>\n",
       "      <td>0.0</td>\n",
       "      <td>NaN</td>\n",
       "      <td>NaN</td>\n",
       "      <td>NaN</td>\n",
       "      <td>NaN</td>\n",
       "      <td>1.0</td>\n",
       "      <td>more than 1 million</td>\n",
       "      <td>NaN</td>\n",
       "      <td>NaN</td>\n",
       "      <td>...</td>\n",
       "      <td>NaN</td>\n",
       "      <td>NaN</td>\n",
       "      <td>NaN</td>\n",
       "      <td>NaN</td>\n",
       "      <td>NaN</td>\n",
       "      <td>NaN</td>\n",
       "      <td>NaN</td>\n",
       "      <td>NaN</td>\n",
       "      <td>NaN</td>\n",
       "      <td>12500.000000</td>\n",
       "    </tr>\n",
       "    <tr>\n",
       "      <th>17231</th>\n",
       "      <td>50.0</td>\n",
       "      <td>0.0</td>\n",
       "      <td>NaN</td>\n",
       "      <td>NaN</td>\n",
       "      <td>NaN</td>\n",
       "      <td>NaN</td>\n",
       "      <td>2.0</td>\n",
       "      <td>less than 100,000</td>\n",
       "      <td>NaN</td>\n",
       "      <td>NaN</td>\n",
       "      <td>...</td>\n",
       "      <td>NaN</td>\n",
       "      <td>NaN</td>\n",
       "      <td>NaN</td>\n",
       "      <td>NaN</td>\n",
       "      <td>NaN</td>\n",
       "      <td>NaN</td>\n",
       "      <td>NaN</td>\n",
       "      <td>NaN</td>\n",
       "      <td>NaN</td>\n",
       "      <td>15000.000000</td>\n",
       "    </tr>\n",
       "  </tbody>\n",
       "</table>\n",
       "<p>11 rows × 137 columns</p>\n",
       "</div>"
      ],
      "text/plain": [
       "        Age  AttendedBootcamp  BootcampFinish  BootcampLoanYesNo  \\\n",
       "718    26.0               1.0             0.0                0.0   \n",
       "1222   32.0               1.0             0.0                0.0   \n",
       "3184   34.0               1.0             1.0                0.0   \n",
       "3930   31.0               0.0             NaN                NaN   \n",
       "6805   46.0               1.0             1.0                1.0   \n",
       "7198   32.0               0.0             NaN                NaN   \n",
       "7505   26.0               1.0             0.0                1.0   \n",
       "9778   33.0               1.0             0.0                1.0   \n",
       "16650  29.0               0.0             NaN                NaN   \n",
       "16997  27.0               0.0             NaN                NaN   \n",
       "17231  50.0               0.0             NaN                NaN   \n",
       "\n",
       "                                 BootcampName  BootcampRecommend  \\\n",
       "718    The Coding Boot Camp at UCLA Extension                1.0   \n",
       "1222                            The Iron Yard                1.0   \n",
       "3184                           We Can Code IT                1.0   \n",
       "3930                                      NaN                NaN   \n",
       "6805                                 Sabio.la                0.0   \n",
       "7198                                      NaN                NaN   \n",
       "7505                                   Codeup                0.0   \n",
       "9778                             Grand Circus                1.0   \n",
       "16650                                     NaN                NaN   \n",
       "16997                                     NaN                NaN   \n",
       "17231                                     NaN                NaN   \n",
       "\n",
       "       ChildrenNumber                 CityPopulation  CodeEventConferences  \\\n",
       "718               NaN            more than 1 million                   1.0   \n",
       "1222              NaN  between 100,000 and 1 million                   NaN   \n",
       "3184              NaN            more than 1 million                   NaN   \n",
       "3930              NaN  between 100,000 and 1 million                   NaN   \n",
       "6805              NaN  between 100,000 and 1 million                   NaN   \n",
       "7198              NaN            more than 1 million                   1.0   \n",
       "7505              NaN            more than 1 million                   NaN   \n",
       "9778              NaN  between 100,000 and 1 million                   NaN   \n",
       "16650             2.0            more than 1 million                   NaN   \n",
       "16997             1.0            more than 1 million                   NaN   \n",
       "17231             2.0              less than 100,000                   NaN   \n",
       "\n",
       "       CodeEventDjangoGirls      ...       YouTubeFunFunFunction  \\\n",
       "718                     NaN      ...                         NaN   \n",
       "1222                    NaN      ...                         NaN   \n",
       "3184                    NaN      ...                         NaN   \n",
       "3930                    NaN      ...                         1.0   \n",
       "6805                    NaN      ...                         NaN   \n",
       "7198                    NaN      ...                         NaN   \n",
       "7505                    NaN      ...                         NaN   \n",
       "9778                    NaN      ...                         NaN   \n",
       "16650                   NaN      ...                         NaN   \n",
       "16997                   NaN      ...                         NaN   \n",
       "17231                   NaN      ...                         NaN   \n",
       "\n",
       "       YouTubeGoogleDev  YouTubeLearnCode  YouTubeLevelUpTuts  YouTubeMIT  \\\n",
       "718                 NaN               NaN                 NaN         NaN   \n",
       "1222                NaN               1.0                 NaN         NaN   \n",
       "3184                NaN               NaN                 NaN         NaN   \n",
       "3930                1.0               1.0                 1.0         1.0   \n",
       "6805                NaN               NaN                 NaN         NaN   \n",
       "7198                1.0               1.0                 1.0         NaN   \n",
       "7505                NaN               NaN                 NaN         1.0   \n",
       "9778                NaN               NaN                 NaN         NaN   \n",
       "16650               NaN               NaN                 NaN         NaN   \n",
       "16997               NaN               NaN                 NaN         NaN   \n",
       "17231               NaN               NaN                 NaN         NaN   \n",
       "\n",
       "       YouTubeMozillaHacks                YouTubeOther YouTubeSimplilearn  \\\n",
       "718                    NaN                         NaN                NaN   \n",
       "1222                   NaN                         NaN                NaN   \n",
       "3184                   NaN                         NaN                NaN   \n",
       "3930                   NaN  various conf presentations                NaN   \n",
       "6805                   NaN                         NaN                NaN   \n",
       "7198                   NaN                         NaN                NaN   \n",
       "7505                   NaN                         NaN                NaN   \n",
       "9778                   NaN                         NaN                NaN   \n",
       "16650                  NaN                         NaN                NaN   \n",
       "16997                  NaN                         NaN                NaN   \n",
       "17231                  NaN                         NaN                NaN   \n",
       "\n",
       "       YouTubeTheNewBoston    MoneySpent  \n",
       "718                    NaN   8000.000000  \n",
       "1222                   NaN   6500.000000  \n",
       "3184                   NaN   9000.000000  \n",
       "3930                   NaN  10833.333333  \n",
       "6805                   NaN  15000.000000  \n",
       "7198                   NaN  14000.000000  \n",
       "7505                   NaN   6666.666667  \n",
       "9778                   NaN   8000.000000  \n",
       "16650                  1.0  16666.666667  \n",
       "16997                  NaN  12500.000000  \n",
       "17231                  NaN  15000.000000  \n",
       "\n",
       "[11 rows x 137 columns]"
      ]
     },
     "execution_count": 202,
     "metadata": {},
     "output_type": "execute_result"
    }
   ],
   "source": [
    "outliers_us"
   ]
  },
  {
   "cell_type": "markdown",
   "metadata": {},
   "source": [
    "Out of these 11 extreme outliers, six people attended bootcamps, which justify the large sums of money spent on learning. For the other five, it's hard to figure out from the data where they could have spent that much money on learning. Consequently, we'll remove those rows where participants reported thay they spend $6000 each month, but they have never attended a bootcamp.\n",
    "\n",
    "Also, the data shows that eight respondents had been programming for no more than three months when they completed the survey. They most likely paid a large sum of money for a bootcamp that was going to last for several months, so the amount of money spent per month is unrealistic and should be significantly lower (because they probably didn't spend anything for the next couple of months after the survey). As a consequence, we'll remove every these eight outliers.\n",
    "\n",
    "In the next code block, we'll remove respondents that:\n",
    "\n",
    "- Didn't attend bootcamps.\n",
    "- Had been programming for three months or less when at the time they completed the survey."
   ]
  },
  {
   "cell_type": "code",
   "execution_count": 203,
   "metadata": {
    "collapsed": true
   },
   "outputs": [],
   "source": [
    "# get the records \n",
    "no_boot_camp_us = only_4 [(only_4['CountryLive'] == 'United States of America') &\n",
    "                          (only_4['MoneySpent'] >= 6000) & \n",
    "                         (only_4['AttendedBootcamp'] == 0)].copy()\n",
    "\n",
    "# drop the records\n",
    "\n",
    "only_4 = only_4.drop(no_boot_camp_us.index) ## drop by record locator"
   ]
  },
  {
   "cell_type": "code",
   "execution_count": 204,
   "metadata": {
    "collapsed": true
   },
   "outputs": [],
   "source": [
    "# Remove who are programming less than 3 months\n",
    "programming_less = only_4 [(only_4['CountryLive'] == 'United States of America') &\n",
    "                          (only_4['MoneySpent'] >= 6000) & \n",
    "                         (only_4['MonthsProgramming'] <= 3)].copy()\n",
    "\n",
    "# drop the records\n",
    "\n",
    "only_4 = only_4.drop(programming_less.index) ## drop by record locator\n"
   ]
  },
  {
   "cell_type": "code",
   "execution_count": 205,
   "metadata": {
    "collapsed": false
   },
   "outputs": [
    {
     "data": {
      "text/html": [
       "<div>\n",
       "<style scoped>\n",
       "    .dataframe tbody tr th:only-of-type {\n",
       "        vertical-align: middle;\n",
       "    }\n",
       "\n",
       "    .dataframe tbody tr th {\n",
       "        vertical-align: top;\n",
       "    }\n",
       "\n",
       "    .dataframe thead th {\n",
       "        text-align: right;\n",
       "    }\n",
       "</style>\n",
       "<table border=\"1\" class=\"dataframe\">\n",
       "  <thead>\n",
       "    <tr style=\"text-align: right;\">\n",
       "      <th></th>\n",
       "      <th>Age</th>\n",
       "      <th>AttendedBootcamp</th>\n",
       "      <th>BootcampFinish</th>\n",
       "      <th>BootcampLoanYesNo</th>\n",
       "      <th>BootcampName</th>\n",
       "      <th>BootcampRecommend</th>\n",
       "      <th>ChildrenNumber</th>\n",
       "      <th>CityPopulation</th>\n",
       "      <th>CodeEventConferences</th>\n",
       "      <th>CodeEventDjangoGirls</th>\n",
       "      <th>...</th>\n",
       "      <th>YouTubeFunFunFunction</th>\n",
       "      <th>YouTubeGoogleDev</th>\n",
       "      <th>YouTubeLearnCode</th>\n",
       "      <th>YouTubeLevelUpTuts</th>\n",
       "      <th>YouTubeMIT</th>\n",
       "      <th>YouTubeMozillaHacks</th>\n",
       "      <th>YouTubeOther</th>\n",
       "      <th>YouTubeSimplilearn</th>\n",
       "      <th>YouTubeTheNewBoston</th>\n",
       "      <th>MoneySpent</th>\n",
       "    </tr>\n",
       "  </thead>\n",
       "  <tbody>\n",
       "    <tr>\n",
       "      <th>718</th>\n",
       "      <td>26.0</td>\n",
       "      <td>1.0</td>\n",
       "      <td>0.0</td>\n",
       "      <td>0.0</td>\n",
       "      <td>The Coding Boot Camp at UCLA Extension</td>\n",
       "      <td>1.0</td>\n",
       "      <td>NaN</td>\n",
       "      <td>more than 1 million</td>\n",
       "      <td>1.0</td>\n",
       "      <td>NaN</td>\n",
       "      <td>...</td>\n",
       "      <td>NaN</td>\n",
       "      <td>NaN</td>\n",
       "      <td>NaN</td>\n",
       "      <td>NaN</td>\n",
       "      <td>NaN</td>\n",
       "      <td>NaN</td>\n",
       "      <td>NaN</td>\n",
       "      <td>NaN</td>\n",
       "      <td>NaN</td>\n",
       "      <td>8000.000000</td>\n",
       "    </tr>\n",
       "    <tr>\n",
       "      <th>1222</th>\n",
       "      <td>32.0</td>\n",
       "      <td>1.0</td>\n",
       "      <td>0.0</td>\n",
       "      <td>0.0</td>\n",
       "      <td>The Iron Yard</td>\n",
       "      <td>1.0</td>\n",
       "      <td>NaN</td>\n",
       "      <td>between 100,000 and 1 million</td>\n",
       "      <td>NaN</td>\n",
       "      <td>NaN</td>\n",
       "      <td>...</td>\n",
       "      <td>NaN</td>\n",
       "      <td>NaN</td>\n",
       "      <td>1.0</td>\n",
       "      <td>NaN</td>\n",
       "      <td>NaN</td>\n",
       "      <td>NaN</td>\n",
       "      <td>NaN</td>\n",
       "      <td>NaN</td>\n",
       "      <td>NaN</td>\n",
       "      <td>6500.000000</td>\n",
       "    </tr>\n",
       "    <tr>\n",
       "      <th>3184</th>\n",
       "      <td>34.0</td>\n",
       "      <td>1.0</td>\n",
       "      <td>1.0</td>\n",
       "      <td>0.0</td>\n",
       "      <td>We Can Code IT</td>\n",
       "      <td>1.0</td>\n",
       "      <td>NaN</td>\n",
       "      <td>more than 1 million</td>\n",
       "      <td>NaN</td>\n",
       "      <td>NaN</td>\n",
       "      <td>...</td>\n",
       "      <td>NaN</td>\n",
       "      <td>NaN</td>\n",
       "      <td>NaN</td>\n",
       "      <td>NaN</td>\n",
       "      <td>NaN</td>\n",
       "      <td>NaN</td>\n",
       "      <td>NaN</td>\n",
       "      <td>NaN</td>\n",
       "      <td>NaN</td>\n",
       "      <td>9000.000000</td>\n",
       "    </tr>\n",
       "    <tr>\n",
       "      <th>6805</th>\n",
       "      <td>46.0</td>\n",
       "      <td>1.0</td>\n",
       "      <td>1.0</td>\n",
       "      <td>1.0</td>\n",
       "      <td>Sabio.la</td>\n",
       "      <td>0.0</td>\n",
       "      <td>NaN</td>\n",
       "      <td>between 100,000 and 1 million</td>\n",
       "      <td>NaN</td>\n",
       "      <td>NaN</td>\n",
       "      <td>...</td>\n",
       "      <td>NaN</td>\n",
       "      <td>NaN</td>\n",
       "      <td>NaN</td>\n",
       "      <td>NaN</td>\n",
       "      <td>NaN</td>\n",
       "      <td>NaN</td>\n",
       "      <td>NaN</td>\n",
       "      <td>NaN</td>\n",
       "      <td>NaN</td>\n",
       "      <td>15000.000000</td>\n",
       "    </tr>\n",
       "    <tr>\n",
       "      <th>7505</th>\n",
       "      <td>26.0</td>\n",
       "      <td>1.0</td>\n",
       "      <td>0.0</td>\n",
       "      <td>1.0</td>\n",
       "      <td>Codeup</td>\n",
       "      <td>0.0</td>\n",
       "      <td>NaN</td>\n",
       "      <td>more than 1 million</td>\n",
       "      <td>NaN</td>\n",
       "      <td>NaN</td>\n",
       "      <td>...</td>\n",
       "      <td>NaN</td>\n",
       "      <td>NaN</td>\n",
       "      <td>NaN</td>\n",
       "      <td>NaN</td>\n",
       "      <td>1.0</td>\n",
       "      <td>NaN</td>\n",
       "      <td>NaN</td>\n",
       "      <td>NaN</td>\n",
       "      <td>NaN</td>\n",
       "      <td>6666.666667</td>\n",
       "    </tr>\n",
       "    <tr>\n",
       "      <th>9778</th>\n",
       "      <td>33.0</td>\n",
       "      <td>1.0</td>\n",
       "      <td>0.0</td>\n",
       "      <td>1.0</td>\n",
       "      <td>Grand Circus</td>\n",
       "      <td>1.0</td>\n",
       "      <td>NaN</td>\n",
       "      <td>between 100,000 and 1 million</td>\n",
       "      <td>NaN</td>\n",
       "      <td>NaN</td>\n",
       "      <td>...</td>\n",
       "      <td>NaN</td>\n",
       "      <td>NaN</td>\n",
       "      <td>NaN</td>\n",
       "      <td>NaN</td>\n",
       "      <td>NaN</td>\n",
       "      <td>NaN</td>\n",
       "      <td>NaN</td>\n",
       "      <td>NaN</td>\n",
       "      <td>NaN</td>\n",
       "      <td>8000.000000</td>\n",
       "    </tr>\n",
       "  </tbody>\n",
       "</table>\n",
       "<p>6 rows × 137 columns</p>\n",
       "</div>"
      ],
      "text/plain": [
       "       Age  AttendedBootcamp  BootcampFinish  BootcampLoanYesNo  \\\n",
       "718   26.0               1.0             0.0                0.0   \n",
       "1222  32.0               1.0             0.0                0.0   \n",
       "3184  34.0               1.0             1.0                0.0   \n",
       "6805  46.0               1.0             1.0                1.0   \n",
       "7505  26.0               1.0             0.0                1.0   \n",
       "9778  33.0               1.0             0.0                1.0   \n",
       "\n",
       "                                BootcampName  BootcampRecommend  \\\n",
       "718   The Coding Boot Camp at UCLA Extension                1.0   \n",
       "1222                           The Iron Yard                1.0   \n",
       "3184                          We Can Code IT                1.0   \n",
       "6805                                Sabio.la                0.0   \n",
       "7505                                  Codeup                0.0   \n",
       "9778                            Grand Circus                1.0   \n",
       "\n",
       "      ChildrenNumber                 CityPopulation  CodeEventConferences  \\\n",
       "718              NaN            more than 1 million                   1.0   \n",
       "1222             NaN  between 100,000 and 1 million                   NaN   \n",
       "3184             NaN            more than 1 million                   NaN   \n",
       "6805             NaN  between 100,000 and 1 million                   NaN   \n",
       "7505             NaN            more than 1 million                   NaN   \n",
       "9778             NaN  between 100,000 and 1 million                   NaN   \n",
       "\n",
       "      CodeEventDjangoGirls      ...       YouTubeFunFunFunction  \\\n",
       "718                    NaN      ...                         NaN   \n",
       "1222                   NaN      ...                         NaN   \n",
       "3184                   NaN      ...                         NaN   \n",
       "6805                   NaN      ...                         NaN   \n",
       "7505                   NaN      ...                         NaN   \n",
       "9778                   NaN      ...                         NaN   \n",
       "\n",
       "      YouTubeGoogleDev  YouTubeLearnCode  YouTubeLevelUpTuts  YouTubeMIT  \\\n",
       "718                NaN               NaN                 NaN         NaN   \n",
       "1222               NaN               1.0                 NaN         NaN   \n",
       "3184               NaN               NaN                 NaN         NaN   \n",
       "6805               NaN               NaN                 NaN         NaN   \n",
       "7505               NaN               NaN                 NaN         1.0   \n",
       "9778               NaN               NaN                 NaN         NaN   \n",
       "\n",
       "      YouTubeMozillaHacks  YouTubeOther YouTubeSimplilearn  \\\n",
       "718                   NaN           NaN                NaN   \n",
       "1222                  NaN           NaN                NaN   \n",
       "3184                  NaN           NaN                NaN   \n",
       "6805                  NaN           NaN                NaN   \n",
       "7505                  NaN           NaN                NaN   \n",
       "9778                  NaN           NaN                NaN   \n",
       "\n",
       "      YouTubeTheNewBoston    MoneySpent  \n",
       "718                   NaN   8000.000000  \n",
       "1222                  NaN   6500.000000  \n",
       "3184                  NaN   9000.000000  \n",
       "6805                  NaN  15000.000000  \n",
       "7505                  NaN   6666.666667  \n",
       "9778                  NaN   8000.000000  \n",
       "\n",
       "[6 rows x 137 columns]"
      ]
     },
     "execution_count": 205,
     "metadata": {},
     "output_type": "execute_result"
    }
   ],
   "source": [
    "programming_less"
   ]
  },
  {
   "cell_type": "code",
   "execution_count": 206,
   "metadata": {
    "collapsed": false
   },
   "outputs": [
    {
     "data": {
      "text/html": [
       "<div>\n",
       "<style scoped>\n",
       "    .dataframe tbody tr th:only-of-type {\n",
       "        vertical-align: middle;\n",
       "    }\n",
       "\n",
       "    .dataframe tbody tr th {\n",
       "        vertical-align: top;\n",
       "    }\n",
       "\n",
       "    .dataframe thead th {\n",
       "        text-align: right;\n",
       "    }\n",
       "</style>\n",
       "<table border=\"1\" class=\"dataframe\">\n",
       "  <thead>\n",
       "    <tr style=\"text-align: right;\">\n",
       "      <th></th>\n",
       "      <th>Age</th>\n",
       "      <th>AttendedBootcamp</th>\n",
       "      <th>BootcampFinish</th>\n",
       "      <th>BootcampLoanYesNo</th>\n",
       "      <th>BootcampName</th>\n",
       "      <th>BootcampRecommend</th>\n",
       "      <th>ChildrenNumber</th>\n",
       "      <th>CityPopulation</th>\n",
       "      <th>CodeEventConferences</th>\n",
       "      <th>CodeEventDjangoGirls</th>\n",
       "      <th>...</th>\n",
       "      <th>YouTubeFunFunFunction</th>\n",
       "      <th>YouTubeGoogleDev</th>\n",
       "      <th>YouTubeLearnCode</th>\n",
       "      <th>YouTubeLevelUpTuts</th>\n",
       "      <th>YouTubeMIT</th>\n",
       "      <th>YouTubeMozillaHacks</th>\n",
       "      <th>YouTubeOther</th>\n",
       "      <th>YouTubeSimplilearn</th>\n",
       "      <th>YouTubeTheNewBoston</th>\n",
       "      <th>MoneySpent</th>\n",
       "    </tr>\n",
       "  </thead>\n",
       "  <tbody>\n",
       "    <tr>\n",
       "      <th>3930</th>\n",
       "      <td>31.0</td>\n",
       "      <td>0.0</td>\n",
       "      <td>NaN</td>\n",
       "      <td>NaN</td>\n",
       "      <td>NaN</td>\n",
       "      <td>NaN</td>\n",
       "      <td>NaN</td>\n",
       "      <td>between 100,000 and 1 million</td>\n",
       "      <td>NaN</td>\n",
       "      <td>NaN</td>\n",
       "      <td>...</td>\n",
       "      <td>1.0</td>\n",
       "      <td>1.0</td>\n",
       "      <td>1.0</td>\n",
       "      <td>1.0</td>\n",
       "      <td>1.0</td>\n",
       "      <td>NaN</td>\n",
       "      <td>various conf presentations</td>\n",
       "      <td>NaN</td>\n",
       "      <td>NaN</td>\n",
       "      <td>10833.333333</td>\n",
       "    </tr>\n",
       "    <tr>\n",
       "      <th>7198</th>\n",
       "      <td>32.0</td>\n",
       "      <td>0.0</td>\n",
       "      <td>NaN</td>\n",
       "      <td>NaN</td>\n",
       "      <td>NaN</td>\n",
       "      <td>NaN</td>\n",
       "      <td>NaN</td>\n",
       "      <td>more than 1 million</td>\n",
       "      <td>1.0</td>\n",
       "      <td>NaN</td>\n",
       "      <td>...</td>\n",
       "      <td>NaN</td>\n",
       "      <td>1.0</td>\n",
       "      <td>1.0</td>\n",
       "      <td>1.0</td>\n",
       "      <td>NaN</td>\n",
       "      <td>NaN</td>\n",
       "      <td>NaN</td>\n",
       "      <td>NaN</td>\n",
       "      <td>NaN</td>\n",
       "      <td>14000.000000</td>\n",
       "    </tr>\n",
       "    <tr>\n",
       "      <th>16650</th>\n",
       "      <td>29.0</td>\n",
       "      <td>0.0</td>\n",
       "      <td>NaN</td>\n",
       "      <td>NaN</td>\n",
       "      <td>NaN</td>\n",
       "      <td>NaN</td>\n",
       "      <td>2.0</td>\n",
       "      <td>more than 1 million</td>\n",
       "      <td>NaN</td>\n",
       "      <td>NaN</td>\n",
       "      <td>...</td>\n",
       "      <td>NaN</td>\n",
       "      <td>NaN</td>\n",
       "      <td>NaN</td>\n",
       "      <td>NaN</td>\n",
       "      <td>NaN</td>\n",
       "      <td>NaN</td>\n",
       "      <td>NaN</td>\n",
       "      <td>NaN</td>\n",
       "      <td>1.0</td>\n",
       "      <td>16666.666667</td>\n",
       "    </tr>\n",
       "    <tr>\n",
       "      <th>16997</th>\n",
       "      <td>27.0</td>\n",
       "      <td>0.0</td>\n",
       "      <td>NaN</td>\n",
       "      <td>NaN</td>\n",
       "      <td>NaN</td>\n",
       "      <td>NaN</td>\n",
       "      <td>1.0</td>\n",
       "      <td>more than 1 million</td>\n",
       "      <td>NaN</td>\n",
       "      <td>NaN</td>\n",
       "      <td>...</td>\n",
       "      <td>NaN</td>\n",
       "      <td>NaN</td>\n",
       "      <td>NaN</td>\n",
       "      <td>NaN</td>\n",
       "      <td>NaN</td>\n",
       "      <td>NaN</td>\n",
       "      <td>NaN</td>\n",
       "      <td>NaN</td>\n",
       "      <td>NaN</td>\n",
       "      <td>12500.000000</td>\n",
       "    </tr>\n",
       "    <tr>\n",
       "      <th>17231</th>\n",
       "      <td>50.0</td>\n",
       "      <td>0.0</td>\n",
       "      <td>NaN</td>\n",
       "      <td>NaN</td>\n",
       "      <td>NaN</td>\n",
       "      <td>NaN</td>\n",
       "      <td>2.0</td>\n",
       "      <td>less than 100,000</td>\n",
       "      <td>NaN</td>\n",
       "      <td>NaN</td>\n",
       "      <td>...</td>\n",
       "      <td>NaN</td>\n",
       "      <td>NaN</td>\n",
       "      <td>NaN</td>\n",
       "      <td>NaN</td>\n",
       "      <td>NaN</td>\n",
       "      <td>NaN</td>\n",
       "      <td>NaN</td>\n",
       "      <td>NaN</td>\n",
       "      <td>NaN</td>\n",
       "      <td>15000.000000</td>\n",
       "    </tr>\n",
       "  </tbody>\n",
       "</table>\n",
       "<p>5 rows × 137 columns</p>\n",
       "</div>"
      ],
      "text/plain": [
       "        Age  AttendedBootcamp  BootcampFinish  BootcampLoanYesNo BootcampName  \\\n",
       "3930   31.0               0.0             NaN                NaN          NaN   \n",
       "7198   32.0               0.0             NaN                NaN          NaN   \n",
       "16650  29.0               0.0             NaN                NaN          NaN   \n",
       "16997  27.0               0.0             NaN                NaN          NaN   \n",
       "17231  50.0               0.0             NaN                NaN          NaN   \n",
       "\n",
       "       BootcampRecommend  ChildrenNumber                 CityPopulation  \\\n",
       "3930                 NaN             NaN  between 100,000 and 1 million   \n",
       "7198                 NaN             NaN            more than 1 million   \n",
       "16650                NaN             2.0            more than 1 million   \n",
       "16997                NaN             1.0            more than 1 million   \n",
       "17231                NaN             2.0              less than 100,000   \n",
       "\n",
       "       CodeEventConferences  CodeEventDjangoGirls      ...       \\\n",
       "3930                    NaN                   NaN      ...        \n",
       "7198                    1.0                   NaN      ...        \n",
       "16650                   NaN                   NaN      ...        \n",
       "16997                   NaN                   NaN      ...        \n",
       "17231                   NaN                   NaN      ...        \n",
       "\n",
       "       YouTubeFunFunFunction  YouTubeGoogleDev  YouTubeLearnCode  \\\n",
       "3930                     1.0               1.0               1.0   \n",
       "7198                     NaN               1.0               1.0   \n",
       "16650                    NaN               NaN               NaN   \n",
       "16997                    NaN               NaN               NaN   \n",
       "17231                    NaN               NaN               NaN   \n",
       "\n",
       "       YouTubeLevelUpTuts  YouTubeMIT  YouTubeMozillaHacks  \\\n",
       "3930                  1.0         1.0                  NaN   \n",
       "7198                  1.0         NaN                  NaN   \n",
       "16650                 NaN         NaN                  NaN   \n",
       "16997                 NaN         NaN                  NaN   \n",
       "17231                 NaN         NaN                  NaN   \n",
       "\n",
       "                     YouTubeOther YouTubeSimplilearn  YouTubeTheNewBoston  \\\n",
       "3930   various conf presentations                NaN                  NaN   \n",
       "7198                          NaN                NaN                  NaN   \n",
       "16650                         NaN                NaN                  1.0   \n",
       "16997                         NaN                NaN                  NaN   \n",
       "17231                         NaN                NaN                  NaN   \n",
       "\n",
       "         MoneySpent  \n",
       "3930   10833.333333  \n",
       "7198   14000.000000  \n",
       "16650  16666.666667  \n",
       "16997  12500.000000  \n",
       "17231  15000.000000  \n",
       "\n",
       "[5 rows x 137 columns]"
      ]
     },
     "execution_count": 206,
     "metadata": {},
     "output_type": "execute_result"
    }
   ],
   "source": [
    "no_boot_camp_us"
   ]
  },
  {
   "cell_type": "code",
   "execution_count": 208,
   "metadata": {
    "collapsed": false
   },
   "outputs": [
    {
     "name": "stderr",
     "output_type": "stream",
     "text": [
      "/dataquest/system/env/python3/lib/python3.4/site-packages/seaborn/categorical.py:454: FutureWarning:\n",
      "\n",
      "remove_na is deprecated and is a private function. Do not use.\n",
      "\n"
     ]
    },
    {
     "data": {
      "image/png": "[encoded data removed]",
      "text/plain": [
       "<matplotlib.figure.Figure at 0x7f21fce71668>"
      ]
     },
     "metadata": {},
     "output_type": "display_data"
    }
   ],
   "source": [
    "## Redraw Box Plot\n",
    "\n",
    "sns.boxplot(y = 'MoneySpent', x = 'CountryLive',data = only_4)\n",
    "plt.title('Money Spent Per Month Per Country\\n(Distributions)',\n",
    "         fontsize = 16)\n",
    "plt.ylabel('Money per month (US dollars)')\n",
    "plt.xlabel('Country')\n",
    "plt.xticks(range(4), ['US', 'UK', 'India', 'Canada']) # avoids tick labels overlap\n",
    "plt.show()\n",
    "\n"
   ]
  },
  {
   "cell_type": "code",
   "execution_count": 209,
   "metadata": {
    "collapsed": false
   },
   "outputs": [
    {
     "data": {
      "text/plain": [
       "(1, 137)"
      ]
     },
     "execution_count": 209,
     "metadata": {},
     "output_type": "execute_result"
    }
   ],
   "source": [
    "# In Canada one person spending more than 2500\n",
    "\n",
    "outliers_canada = only_4 [( only_4['CountryLive'] == 'Canada')  & \n",
    "                         ( only_4['MoneySpent'] >= 3000)].copy()\n",
    "\n",
    "outliers_canada.shape\n"
   ]
  },
  {
   "cell_type": "code",
   "execution_count": 211,
   "metadata": {
    "collapsed": false
   },
   "outputs": [
    {
     "data": {
      "text/plain": [
       "13659    2.0\n",
       "Name: MonthsProgramming, dtype: float64"
      ]
     },
     "execution_count": 211,
     "metadata": {},
     "output_type": "execute_result"
    }
   ],
   "source": [
    "outliers_canada['MonthsProgramming']"
   ]
  },
  {
   "cell_type": "code",
   "execution_count": 212,
   "metadata": {
    "collapsed": true
   },
   "outputs": [],
   "source": [
    "## The person spending more than 3000 is attending boot camp and has\n",
    "## less than 3 months of programming \n",
    "\n",
    "only_4 = only_4.drop(outliers_canada.index) \n"
   ]
  },
  {
   "cell_type": "code",
   "execution_count": 213,
   "metadata": {
    "collapsed": false
   },
   "outputs": [
    {
     "name": "stderr",
     "output_type": "stream",
     "text": [
      "/dataquest/system/env/python3/lib/python3.4/site-packages/seaborn/categorical.py:454: FutureWarning:\n",
      "\n",
      "remove_na is deprecated and is a private function. Do not use.\n",
      "\n"
     ]
    },
    {
     "data": {
      "image/png": "[encoded data removed]",
      "text/plain": [
       "<matplotlib.figure.Figure at 0x7f2208fc24e0>"
      ]
     },
     "metadata": {},
     "output_type": "display_data"
    }
   ],
   "source": [
    "sns.boxplot(y = 'MoneySpent', x = 'CountryLive',data = only_4)\n",
    "plt.title('Money Spent Per Month Per Country\\n(Distributions)',\n",
    "         fontsize = 16)\n",
    "plt.ylabel('Money per month (US dollars)')\n",
    "plt.xlabel('Country')\n",
    "plt.xticks(range(4), ['US', 'UK', 'India', 'Canada']) # avoids tick labels overlap\n",
    "plt.show()"
   ]
  },
  {
   "cell_type": "code",
   "execution_count": 218,
   "metadata": {
    "collapsed": false
   },
   "outputs": [
    {
     "name": "stdout",
     "output_type": "stream",
     "text": [
      "CountryLive\n",
      "Canada                       93.065400\n",
      "India                        65.758763\n",
      "United Kingdom               45.534443\n",
      "United States of America    142.654608\n",
      "Name: MoneySpent, dtype: float64\n"
     ]
    }
   ],
   "source": [
    "#Calculate the mean\n",
    "\n",
    "new_mean = only_4.groupby('CountryLive')['MoneySpent'].mean()\n",
    "print(new_mean)"
   ]
  },
  {
   "cell_type": "markdown",
   "metadata": {},
   "source": [
    "# Choosing the Two Best Markets\n",
    "\n",
    "Obviously, one country we should advertise in is the US. Lots of new coders live there and they are willing to pay a good amount of money each month (roughly $143).\n",
    "\n",
    "We sell subscriptions at a price of ** 59 per months and Canada seems to be the second best market as they are spending ** 93 per month, compared to India 65 and United Kingdom (45).\n",
    "\n",
    "The data suggests strongly that we shouldn't advertise in the UK, but let's take a second look at India before deciding to choose Canada as our second best choice:\n",
    "\n",
    "- 59 doesn't seems like to much money to be as india already spending 66 each month.\n",
    "- We have almost twice as more potential customers in India than we have in Canada:"
   ]
  },
  {
   "cell_type": "code",
   "execution_count": 220,
   "metadata": {
    "collapsed": false
   },
   "outputs": [
    {
     "data": {
      "text/plain": [
       "United States of America    74.967908\n",
       "India                       11.732991\n",
       "United Kingdom               7.163030\n",
       "Canada                       6.136072\n",
       "Name: CountryLive, dtype: float64"
      ]
     },
     "execution_count": 220,
     "metadata": {},
     "output_type": "execute_result"
    }
   ],
   "source": [
    "only_4['CountryLive'].value_counts(normalize=True)*100"
   ]
  },
  {
   "cell_type": "markdown",
   "metadata": {},
   "source": [
    "So it's not crystal clear what to choose between Canada and India. Although it seems more tempting to choose Canada, there are good chances that India might actually be a better choice because of the large number of potential customers.\n",
    "\n",
    "At this point, it seems that we have several options:\n",
    "\n",
    "1. Advertise in the US, India, and Canada by splitting the advertisement budget in various combinations:\n",
    "\n",
    "    - 60% for the US, 25% for India, 15% for Canada.\n",
    "    - 50% for the US, 30% for India, 20% for Canada; etc.\n",
    "\n",
    "2. Advertise only in the US and India, or the US and Canada. Again, it makes sense to split the advertisement budget unequally. For instance:\n",
    "\n",
    "    - 70% for the US, and 30% for India.\n",
    "    - 65% for the US, and 35% for Canada; etc.\n",
    "\n",
    "3. Advertise only in the US.\n",
    "\n",
    "At this point, it's probably best to send our analysis to the marketing team and let them use their domain knowledge to decide. They might want to do some extra surveys in India and Canada and then get back to us for analyzing the new survey data."
   ]
  },
  {
   "cell_type": "code",
   "execution_count": null,
   "metadata": {
    "collapsed": true
   },
   "outputs": [],
   "source": []
  }
 ],
 "metadata": {
  "kernelspec": {
   "display_name": "Python 3",
   "language": "python",
   "name": "python3"
  },
  "language_info": {
   "codemirror_mode": {
    "name": "ipython",
    "version": 3
   },
   "file_extension": ".py",
   "mimetype": "text/x-python",
   "name": "python",
   "nbconvert_exporter": "python",
   "pygments_lexer": "ipython3",
   "version": "3.4.3"
  }
 },
 "nbformat": 4,
 "nbformat_minor": 2
}

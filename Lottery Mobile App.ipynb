{
 "cells": [
  {
   "cell_type": "markdown",
   "metadata": {},
   "source": [
    "## Developing Mobile App to help lottery addicts to better estimate their chances of winning\n",
    "\n",
    "    -Many people start playing the lottery for fun, but for some this activity turns into a habit which eventually escalates into addiction. Like other compulsive gamblers, lottery addicts soon begin spending from their savings and loans, they start to accumulate debts, and eventually engage in desperate behaviors like theft\n",
    "    - A medical institute that aims to prevent and treat gambling addictions wants to build a dedicated mobile app to help lottery addicts better estimate their chances of winning. The institute has a team of engineers that will build the app, but they need us to create the logical core of the app and calculate probabilities\n",
    "    \n",
    "    For the first version of the app, they want us to focus on the 6/49 lottery and build functions that enable users to answer questions like:\n",
    "    \n",
    " - What is the probability of winning the big prize with a single ticket?\n",
    "- What is the probability of winning the big prize if we play 40 different tickets (or - - any other number)?\n",
    "- What is the probability of having at least five (or four, or three, or two) winning numbers on a single ticket?\n",
    "- - - -     \n",
    "\n",
    "[https://www.kaggle.com/datasets/datascienceai/lottery-dataset]"
   ]
  },
  {
   "cell_type": "code",
   "execution_count": 2,
   "metadata": {
    "collapsed": true
   },
   "outputs": [],
   "source": [
    "#### Function to Calculate Factorial\n",
    "### To calculate factorials, this is the formula we learned we need to use:\n",
    "### \n",
    "\n",
    "def factorial(num):\n",
    "    fact = 1\n",
    "    for i in range(num,0,-1):\n",
    "        fact = fact * i\n",
    "    return fact\n",
    "\n",
    "#### Function to calculate combinations\n",
    "\n",
    "def combinations(n,k):\n",
    "    numerator = factorial(n)\n",
    "    dem1    = factorial(k)\n",
    "    dem2    = factorial(n-k)\n",
    "    denominator = dem1 * dem2\n",
    "    return numerator/denominator"
   ]
  },
  {
   "cell_type": "markdown",
   "metadata": {
    "collapsed": true
   },
   "source": [
    "- Inside the APP user inputs 6 different numbers from 1 to 49\n",
    "- Under the hood, the six number will come as a Python List.\n",
    "- The engineering team wants the function to print the probability value in a friendly way — in a way that people without any probability training are able to understand"
   ]
  },
  {
   "cell_type": "code",
   "execution_count": 3,
   "metadata": {
    "collapsed": false
   },
   "outputs": [],
   "source": [
    "# Function to calculate possible outcomes.\n",
    "\n",
    "def one_ticket_probability(user_numbers):\n",
    "    # Total number of combinations\n",
    "    # 49 possible numbers , 6 numbers sampled out without replacement\n",
    "    possible_outcomes = combinations(49,6)\n",
    "    # Probability of one ticket with 1 successful outcome\n",
    "    probility_one_ticket = 1/possible_outcomes\n",
    "    # In percentage format \n",
    "    propability_in_percentage = probility_one_ticket * 100\n",
    "    print('Your chances to win the big prize with the numbers {} \\\n",
    "          are {:.7f}%. In other words, you have a 1 in {:,} \\\n",
    "          chances to win.'\\\n",
    "          .format(user_numbers,propability_in_percentage,int(possible_outcomes)))\n",
    "\n",
    "    "
   ]
  },
  {
   "cell_type": "code",
   "execution_count": 4,
   "metadata": {
    "collapsed": false
   },
   "outputs": [
    {
     "name": "stdout",
     "output_type": "stream",
     "text": [
      "Your chances to win the big prize with the numbers [25, 48, 29, 13, 47, 9]           are 0.0000072%. In other words, you have a 1 in 13,983,816           chances to win.\n"
     ]
    }
   ],
   "source": [
    "## Testing \n",
    "one_ticket_probability([25,48,29,13,47,9])"
   ]
  },
  {
   "cell_type": "markdown",
   "metadata": {},
   "source": [
    "- Calculated possible outcomes using Combinations function\n",
    "- Probability of getting 1 successful outcomes\n",
    "- Converted into Percentage\n",
    "- Printing the details using Str format"
   ]
  },
  {
   "cell_type": "code",
   "execution_count": 5,
   "metadata": {
    "collapsed": false
   },
   "outputs": [
    {
     "name": "stdout",
     "output_type": "stream",
     "text": [
      "(3665, 11)\n"
     ]
    }
   ],
   "source": [
    "import pandas as pd\n",
    "drawing_hist = pd.read_csv('649.csv')\n",
    "## Total Number of cols and rows\n",
    "print(drawing_hist.shape)"
   ]
  },
  {
   "cell_type": "code",
   "execution_count": 6,
   "metadata": {
    "collapsed": false
   },
   "outputs": [
    {
     "name": "stdout",
     "output_type": "stream",
     "text": [
      "   PRODUCT  DRAW NUMBER  SEQUENCE NUMBER  DRAW DATE  NUMBER DRAWN 1  \\\n",
      "0      649            1                0  6/12/1982               3   \n",
      "1      649            2                0  6/19/1982               8   \n",
      "2      649            3                0  6/26/1982               1   \n",
      "\n",
      "   NUMBER DRAWN 2  NUMBER DRAWN 3  NUMBER DRAWN 4  NUMBER DRAWN 5  \\\n",
      "0              11              12              14              41   \n",
      "1              33              36              37              39   \n",
      "2               6              23              24              27   \n",
      "\n",
      "   NUMBER DRAWN 6  BONUS NUMBER  \n",
      "0              43            13  \n",
      "1              41             9  \n",
      "2              39            34  \n"
     ]
    }
   ],
   "source": [
    "print(drawing_hist.head(3))"
   ]
  },
  {
   "cell_type": "code",
   "execution_count": 7,
   "metadata": {
    "collapsed": false
   },
   "outputs": [
    {
     "name": "stdout",
     "output_type": "stream",
     "text": [
      "      PRODUCT  DRAW NUMBER  SEQUENCE NUMBER  DRAW DATE  NUMBER DRAWN 1  \\\n",
      "3662      649         3589                0  6/13/2018               6   \n",
      "3663      649         3590                0  6/16/2018               2   \n",
      "3664      649         3591                0  6/20/2018              14   \n",
      "\n",
      "      NUMBER DRAWN 2  NUMBER DRAWN 3  NUMBER DRAWN 4  NUMBER DRAWN 5  \\\n",
      "3662              22              24              31              32   \n",
      "3663              15              21              31              38   \n",
      "3664              24              31              35              37   \n",
      "\n",
      "      NUMBER DRAWN 6  BONUS NUMBER  \n",
      "3662              34            16  \n",
      "3663              49             8  \n",
      "3664              48            17  \n"
     ]
    }
   ],
   "source": [
    "print(drawing_hist.tail(3))"
   ]
  },
  {
   "cell_type": "markdown",
   "metadata": {},
   "source": [
    "On the previous screen, we focused on opening and exploring the Canada lottery data set. On this screen, we're going to write a function that will enable users to compare their ticket against the historical lottery data in Canada and determine whether they would have ever won by now.\n",
    "\n",
    "The engineering team told us that we need to be aware of the following details:\n",
    "\n",
    "- Inside the app, the user inputs six different numbers from 1 to 49.\n",
    "- Under the hood, the six numbers will come as a Python list and serve as an input to our function.\n",
    "- The engineering team wants us to write a function that prints:\n",
    "    - the number of times the combination selected occurred in the Canada data set; and\n",
    "    - the probability of winning the big prize in the next drawing with that combination.\n"
   ]
  },
  {
   "cell_type": "code",
   "execution_count": 8,
   "metadata": {
    "collapsed": false
   },
   "outputs": [],
   "source": [
    "# Create a function to return SET\n",
    "\n",
    "def extract_numbers(data):\n",
    "    row = data[4:10]\n",
    "    row = set(row.values)\n",
    "    return row;\n",
    "\n",
    "winning_numbers_hist = drawing_hist.apply(extract_numbers,axis=1)"
   ]
  },
  {
   "cell_type": "code",
   "execution_count": 9,
   "metadata": {
    "collapsed": false
   },
   "outputs": [
    {
     "name": "stdout",
     "output_type": "stream",
     "text": [
      "0    {3, 41, 11, 12, 43, 14}\n",
      "1    {33, 36, 37, 39, 8, 41}\n",
      "2     {1, 6, 39, 23, 24, 27}\n",
      "3     {3, 9, 10, 43, 13, 20}\n",
      "4    {34, 5, 14, 47, 21, 31}\n",
      "dtype: object\n"
     ]
    }
   ],
   "source": [
    "print(winning_numbers_hist.head(5))"
   ]
  },
  {
   "cell_type": "code",
   "execution_count": 19,
   "metadata": {
    "collapsed": false
   },
   "outputs": [],
   "source": [
    "def check_historical_occurance(user_input,prev_winnings):\n",
    "    user_input_set = set(user_input)\n",
    "    match_winnings = user_input_set == prev_winnings\n",
    "    n_matches = match_winnings.sum()\n",
    "    \n",
    "    if n_matches == 0:\n",
    "        print ('The combination {} has never occured \\\n",
    "        in the past'.format(user_input))\n",
    "        print('Your Chances of winning in the next drawing using \\\n",
    "        this combination {} is 0.0000072%, In other words \\\n",
    "        1 in 13,983,816 chances of winning'.format(user_input))\n",
    "    else: \n",
    "        print ('The combination {} has occured {} times \\\n",
    "        in the past'.format(user_input,n_matches))\n",
    "        print('Your Chances of winning in the next drawing using \\\n",
    "        this combination {} is 0.0000072%, In other words \\\n",
    "        1 in 13,983,816 chances of winning'.format(user_input))\n",
    "        "
   ]
  },
  {
   "cell_type": "code",
   "execution_count": 20,
   "metadata": {
    "collapsed": false
   },
   "outputs": [
    {
     "name": "stdout",
     "output_type": "stream",
     "text": [
      "The combination [3, 41, 11, 12, 32, 14] has never occured         in the past\n",
      "Your Chances of winning in the next drawing using         this combination [3, 41, 11, 12, 32, 14] is 0.0000072%, In other words         1 in 13,983,816 chances of winning\n"
     ]
    }
   ],
   "source": [
    "check_historical_occurance([3,41,11,12,32,14],winning_numbers_hist)"
   ]
  },
  {
   "cell_type": "code",
   "execution_count": 21,
   "metadata": {
    "collapsed": false
   },
   "outputs": [
    {
     "name": "stdout",
     "output_type": "stream",
     "text": [
      "The combination [3, 41, 11, 12, 43, 14] has occured 1 times         in the past\n",
      "Your Chances of winning in the next drawing using         this combination [3, 41, 11, 12, 43, 14] is 0.0000072%, In other words         1 in 13,983,816 chances of winning\n"
     ]
    }
   ],
   "source": [
    "check_historical_occurance([3,41,11,12,43,14],winning_numbers_hist)"
   ]
  },
  {
   "cell_type": "markdown",
   "metadata": {},
   "source": [
    "- Developed a method to compare user selected numbers with historical winning combinations"
   ]
  },
  {
   "cell_type": "markdown",
   "metadata": {},
   "source": [
    "Lottery addicts usually play more than one ticket on a single drawing, thinking that this might increase their chances of winning significantly. Our purpose is to help them better estimate their chances of winning — on this screen, we're going to write a function that will allow the users to calculate the chances of winning for any number of different tickets.\n",
    "\n",
    "- The user will input the number of different tickets they want to play (without inputting the specific combinations they intend to play).\n",
    "- Our function will see an integer between 1 and 13,983,816 (the maximum number of different tickets).\n",
    "- The function should print information about the probability of winning the big prize depending on the number of different tickets played.\n"
   ]
  },
  {
   "cell_type": "code",
   "execution_count": 31,
   "metadata": {
    "collapsed": true
   },
   "outputs": [],
   "source": [
    "def multi_ticket_probability(tottickets):\n",
    "    # 49 total numbers , 6 numbers sampling without replacement\n",
    "    possible_outcomes = combinations(49,6)\n",
    "    # number of successful outcome\n",
    "    sucessful_outcome = tottickets/possible_outcomes * 100\n",
    "    number_of_possibility = possible_outcomes/tottickets\n",
    "    print('Your chances to win the big prize with  {} tickets \\\n",
    "          are {:.7f}%. In other words, you have {} in {:,} \\\n",
    "          chances to win.'\\\n",
    "          .format(tottickets,sucessful_outcome,tottickets,int(number_of_possibility)))\n",
    "    \n",
    "    "
   ]
  },
  {
   "cell_type": "code",
   "execution_count": 30,
   "metadata": {
    "collapsed": false
   },
   "outputs": [
    {
     "name": "stdout",
     "output_type": "stream",
     "text": [
      "Your chances to win the big prize with  10 tickets           are 0.0000715%. In other words, you have 10 in 13,983,816           chances to win.\n"
     ]
    }
   ],
   "source": [
    "multi_ticket_probability(10)"
   ]
  },
  {
   "cell_type": "code",
   "execution_count": 32,
   "metadata": {
    "collapsed": false
   },
   "outputs": [
    {
     "name": "stdout",
     "output_type": "stream",
     "text": [
      "Your chances to win the big prize with  10 tickets           are 0.0000715%. In other words, you have 10 in 1,398,381           chances to win.\n"
     ]
    }
   ],
   "source": [
    "multi_ticket_probability(10)"
   ]
  },
  {
   "cell_type": "code",
   "execution_count": 33,
   "metadata": {
    "collapsed": false
   },
   "outputs": [
    {
     "name": "stdout",
     "output_type": "stream",
     "text": [
      "Your chances to win the big prize with  1000 tickets           are 0.0071511%. In other words, you have 1000 in 13,983           chances to win.\n"
     ]
    }
   ],
   "source": [
    "multi_ticket_probability(1000)"
   ]
  },
  {
   "cell_type": "markdown",
   "metadata": {},
   "source": [
    "### Less Winning Numbers — Function\n",
    "\n",
    "In most 6/49 lotteries, there are smaller prizes if a player's ticket match two, three, four, or five of the six numbers drawn. This means that players might be interested in finding out the probability of having two, three, four, or five winning numbers — for the first version of the app, users should be able to find those probabilities.\n",
    "\n",
    "These are the details we need to be aware of when we write a function to make the calculations of those probabilities possible:\n",
    "\n",
    "Inside the app, the user inputs:\n",
    "- six different numbers from 1 to 49; and\n",
    "- an integer between 2 and 5 that represents the number of winning numbers expected \n",
    "\n",
    "Our function prints information about the probability of having a certain number of winning numbers \n",
    "\n",
    "To calculate the probabilities, we tell the engineering team that the specific combination on the ticket is irrelevant and we only need the integer between 2 and 5 representing the number of winning numbers expected. Consequently, we will write a function named probability_less_6() which takes in an integer and prints information about the chances of winning depending on the value of that integer.\n",
    "\n",
    "The function below calculates the probability that a player's ticket matches exactly the given number of winning numbers. If the player wants to find out the probability of having five winning numbers, the function will return the probability of having five winning numbers exactly (no more and no less). The function will not return the probability of having at least five winning numbers."
   ]
  },
  {
   "cell_type": "code",
   "execution_count": 40,
   "metadata": {
    "collapsed": false
   },
   "outputs": [],
   "source": [
    "def probability_less_6(num):\n",
    "    n_combinations_ticket = combinations(6,num)\n",
    "    n_combinations_remaining = combinations(43,6-num)\n",
    "    successful_outcomes = n_combinations_ticket * n_combinations_remaining\n",
    "    n_combinations_total = combinations(49, 6)    \n",
    "\n",
    "    probability = successful_outcomes / n_combinations_total\n",
    "    probability_percentage = probability * 100    \n",
    "    \n",
    "    combinations_simplified = round(n_combinations_total/successful_outcomes)    \n",
    "    print('Your chances of having {} winning numbers with \\\n",
    "    this ticket are {:.6f}%. In other words, you have a 1 in {:,} \\\n",
    "    chances to win.'\\\n",
    "          .format(num, probability_percentage,int(combinations_simplified)))\n",
    "    "
   ]
  },
  {
   "cell_type": "code",
   "execution_count": 41,
   "metadata": {
    "collapsed": false
   },
   "outputs": [
    {
     "name": "stdout",
     "output_type": "stream",
     "text": [
      "Your chances of having 2 winning numbers with     this ticket are 13.237803%. In other words, you have a 1 in 8     chances to win.\n",
      "--------------------------\n",
      "Your chances of having 3 winning numbers with     this ticket are 1.765040%. In other words, you have a 1 in 57     chances to win.\n",
      "--------------------------\n",
      "Your chances of having 4 winning numbers with     this ticket are 0.096862%. In other words, you have a 1 in 1,032     chances to win.\n",
      "--------------------------\n",
      "Your chances of having 5 winning numbers with     this ticket are 0.001845%. In other words, you have a 1 in 54,201     chances to win.\n",
      "--------------------------\n"
     ]
    }
   ],
   "source": [
    "for test_input in [2, 3, 4, 5]:\n",
    "    probability_less_6(test_input)\n",
    "    print('--------------------------') # output delimiter"
   ]
  },
  {
   "cell_type": "markdown",
   "metadata": {},
   "source": [
    "## Next steps\n",
    "For the first version of the app, we coded four main functions:\n",
    "\n",
    "one_ticket_probability() — calculates the probability of winning the big prize with a single ticket\n",
    "check_historical_occurrence() — checks whether a certain combination has occurred in the Canada lottery data set\n",
    "multi_ticket_probability() — calculates the probability for any number of of tickets between 1 and 13,983,816\n",
    "probability_less_6() — calculates the probability of having two, three, four or five winning numbers exactly\n",
    "Possible features for a second version of the app include:\n",
    "\n",
    "Making the outputs even easier to understand by adding fun analogies (for example, we can find probabilities for strange events and compare with the chances of winning in lottery; for instance, we can output something along the lines \"You are 100 times more likely to be the victim of a shark attack than winning the lottery\")\n",
    "Combining the one_ticket_probability() and check_historical_occurrence() to output information on probability and historical occurrence at the same time\n",
    "Create a function similar to probability_less_6() which calculates the probability of having at least two, three, four or five winning numbers. Hint: the number of successful outcomes for having at least four winning numbers is the sum of these three numbers:\n",
    "The number of successful outcomes for having four winning numbers exactly\n",
    "The number of successful outcomes for having five winning numbers exactly\n",
    "The number of successful outcomes for having six winning numbers exactly"
   ]
  }
 ],
 "metadata": {
  "kernelspec": {
   "display_name": "Python 3",
   "language": "python",
   "name": "python3"
  },
  "language_info": {
   "codemirror_mode": {
    "name": "ipython",
    "version": 3
   },
   "file_extension": ".py",
   "mimetype": "text/x-python",
   "name": "python",
   "nbconvert_exporter": "python",
   "pygments_lexer": "ipython3",
   "version": "3.4.3"
  }
 },
 "nbformat": 4,
 "nbformat_minor": 2
}
